{
 "cells": [
  {
   "cell_type": "code",
   "execution_count": 1,
   "id": "6069b3ef",
   "metadata": {},
   "outputs": [
    {
     "data": {
      "text/html": [
       "<div>\n",
       "<style scoped>\n",
       "    .dataframe tbody tr th:only-of-type {\n",
       "        vertical-align: middle;\n",
       "    }\n",
       "\n",
       "    .dataframe tbody tr th {\n",
       "        vertical-align: top;\n",
       "    }\n",
       "\n",
       "    .dataframe thead th {\n",
       "        text-align: right;\n",
       "    }\n",
       "</style>\n",
       "<table border=\"1\" class=\"dataframe\">\n",
       "  <thead>\n",
       "    <tr style=\"text-align: right;\">\n",
       "      <th></th>\n",
       "      <th>Name</th>\n",
       "      <th>Modified Time</th>\n",
       "      <th>Change Time</th>\n",
       "      <th>Access Time</th>\n",
       "      <th>Created Time</th>\n",
       "      <th>Size</th>\n",
       "      <th>Flags(Dir)</th>\n",
       "      <th>Flags(Meta)</th>\n",
       "      <th>Known</th>\n",
       "      <th>Location</th>\n",
       "      <th>MD5 Hash</th>\n",
       "      <th>SHA-256 Hash</th>\n",
       "      <th>MIME Type</th>\n",
       "      <th>Extension</th>\n",
       "    </tr>\n",
       "  </thead>\n",
       "  <tbody>\n",
       "    <tr>\n",
       "      <th>0</th>\n",
       "      <td>pdf.pdf</td>\n",
       "      <td>0000-00-00 00:00:00</td>\n",
       "      <td>0000-00-00 00:00:00</td>\n",
       "      <td>0000-00-00 00:00:00</td>\n",
       "      <td>0000-00-00 00:00:00</td>\n",
       "      <td>154902</td>\n",
       "      <td>Allocated</td>\n",
       "      <td>Allocated</td>\n",
       "      <td>unknown</td>\n",
       "      <td>/LogicalFileSet1/pdf.pdf</td>\n",
       "      <td>df71ccb55c192749b12e4b0f04ab00e7</td>\n",
       "      <td>eb17a4906ee65af4750788a1e10bc6425ec84c83f51fcf...</td>\n",
       "      <td>application/octet-stream</td>\n",
       "      <td>pdf</td>\n",
       "    </tr>\n",
       "  </tbody>\n",
       "</table>\n",
       "</div>"
      ],
      "text/plain": [
       "      Name        Modified Time          Change Time          Access Time  \\\n",
       "0  pdf.pdf  0000-00-00 00:00:00  0000-00-00 00:00:00  0000-00-00 00:00:00   \n",
       "\n",
       "          Created Time    Size Flags(Dir) Flags(Meta)    Known  \\\n",
       "0  0000-00-00 00:00:00  154902  Allocated   Allocated  unknown   \n",
       "\n",
       "                   Location                          MD5 Hash  \\\n",
       "0  /LogicalFileSet1/pdf.pdf  df71ccb55c192749b12e4b0f04ab00e7   \n",
       "\n",
       "                                        SHA-256 Hash  \\\n",
       "0  eb17a4906ee65af4750788a1e10bc6425ec84c83f51fcf...   \n",
       "\n",
       "                  MIME Type Extension  \n",
       "0  application/octet-stream       pdf  "
      ]
     },
     "execution_count": 1,
     "metadata": {},
     "output_type": "execute_result"
    }
   ],
   "source": [
    "import numpy as np\n",
    "import pandas as pd\n",
    "\n",
    "dataset_path = 'data.csv'\n",
    "\n",
    "# Lee el archivo CSV con los ajustes\n",
    "datos = pd.read_csv(dataset_path)\n",
    "datos"
   ]
  }
 ],
 "metadata": {
  "kernelspec": {
   "display_name": "Python 3 (ipykernel)",
   "language": "python",
   "name": "python3"
  },
  "language_info": {
   "codemirror_mode": {
    "name": "ipython",
    "version": 3
   },
   "file_extension": ".py",
   "mimetype": "text/x-python",
   "name": "python",
   "nbconvert_exporter": "python",
   "pygments_lexer": "ipython3",
   "version": "3.11.5"
  }
 },
 "nbformat": 4,
 "nbformat_minor": 5
}
