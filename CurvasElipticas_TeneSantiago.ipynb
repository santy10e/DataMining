{
 "cells": [
  {
   "cell_type": "markdown",
   "metadata": {
    "id": "EyNqfsJeQxHz"
   },
   "source": [
    "# **Curvas Elipticas**\n",
    "\n",
    "**Nombre:** Santiago Tene\n",
    "\n",
    "**Materia:** Seguridad de la información"
   ]
  },
  {
   "cell_type": "markdown",
   "metadata": {
    "id": "GoKZ0TW7R9QN"
   },
   "source": [
    "# Background Reading\n",
    "\n",
    "Elliptic Curve Cryptography (ECC) is an asymmetric cryptographic protocol that, like RSA and Diffie-Hellman (DH), relies on a trapdoor function. To recap: trapdoor functions allow a client to keep data secret by performing a mathematical operation which is computationally easy to do, but currently understood to be very expensive to undo.\n",
    "\n",
    "For RSA, the trapdoor function relies on the hardness of factoring large numbers. For Diffie-Hellman, the trapdoor relies on the hardness of the discrete log problem. For both RSA and DH, the operations that run through the veins of the protocol are familiar to us. Multiplying numbers and taking powers of numbers are things we are taught to do in school. ECC stands out, because the group operation in ECC won't pop up in your life unless you are looking for it.\n",
    "\n",
    "This discussion here will not be total, and those who are really looking to understand ECC, I recommend these notes Elliptic Curve notes by Ben Lynn, and the textbook \"An Introduction to Mathematical Cryptography\", Jeffrey Hoffstein, Jill Pipher, Joseph H. Silverman.\n",
    "\n",
    "\n",
    "Let's start thinking about ECC by looking at what we mean by an elliptic curve. We will be studying Weierstrass equations, which are of the form\n",
    "\n",
    "Y2 = X3 + a X + b\n",
    "\n",
    "Elliptic curves have an amazing feature: we can define an operator that we will call \"point addition\". This operator takes two points on some curve and produces a third point on the curve. Taking the set of points on an elliptic curve, point addition defines an Abelian group operation.\n",
    "\n",
    "There's a lot of text here. Let's motivate this! We can understand scalar multiplication of a point as the repeated point addition of the same point. Q = 2 P = P + P. It turns out that scalar multiplication is a trapdoor function! ECC relies on the hardness of finding the n such that Q = nP given Q and P."
   ]
  },
  {
   "cell_type": "code",
   "execution_count": 18,
   "metadata": {
    "colab": {
     "base_uri": "https://localhost:8080/"
    },
    "id": "B1EcBcb_SBrw",
    "outputId": "98551777-74bd-40d0-be85-b28aed0d8a1c"
   },
   "outputs": [
    {
     "name": "stdout",
     "output_type": "stream",
     "text": [
      "(4215, 2162)\n"
     ]
    }
   ],
   "source": []
  },
  {
   "cell_type": "markdown",
   "metadata": {},
   "source": [
    "# STARTER"
   ]
  },
  {
   "cell_type": "markdown",
   "metadata": {
    "id": "KOkX0CMHRkej"
   },
   "source": [
    "## Point Negation\n",
    "\n",
    "In the background section, we covered the basics of how we can view point addition over an elliptic curve as being an abelian group operation. In this geometric picture we allowed the coordinates on the curve to be any real number.\n",
    "\n",
    "To apply elliptic curves in a cryptographic setting, we study elliptic curves which have coordinates in a finite field Fp.\n",
    "\n",
    "We will still be considering elliptic curves of the form E: Y2 = X3 + a X + b , which satisfy the following conditions: a,b ∈ Fp and 4a3 + 27 b2 ≠ 0. However, we no longer think of the elliptic curve as a geometric object, but rather a set of points defined by\n",
    "\n",
    "E(Fp) = {(x,y) : x,y ∈ Fp satisfying: y2 = x3 + a x + b} ∪ O\n",
    "\n",
    " Note: Everything we covered in the background still holds. The identity of the group is the point at infinity: O, and the addition law is unchanged. Given two points in E(Fp), the addition law will generate another point in E(Fp).\n",
    "\n",
    "\n",
    "For all the challenges in the starter set, we will be working with the elliptic curve\n",
    "\n",
    "E: Y2 = X3 + 497 X + 1768, p: 9739\n",
    "\n",
    "Using the above curve, and the point P(8045,6936), find the point Q(x,y) such that P + Q = O.\n",
    "\n",
    " Remember, we're working in a finite field now, so you'll need to work correctly with negative numbers."
   ]
  },
  {
   "cell_type": "code",
   "execution_count": 1,
   "metadata": {
    "colab": {
     "base_uri": "https://localhost:8080/"
    },
    "id": "pjDRGs29Q5ZM",
    "outputId": "1091a1fa-f9b3-49d7-b29a-daa28858f3b6"
   },
   "outputs": [
    {
     "name": "stdout",
     "output_type": "stream",
     "text": [
      "crypto{8045,2803}\n"
     ]
    }
   ],
   "source": [
    "from sage.all import *\n",
    "\n",
    "# E: Y2 = X3 + 497 X + 1768, p: 9739\n",
    "a, b, p = 497, 1768, 9739\n",
    "E = EllipticCurve(GF(p), [a, b])\n",
    "\n",
    "P = E.point((8045,6936))\n",
    "Q = -P\n",
    "x, y = Q.xy()\n",
    "\n",
    "print(\"crypto{\" + str(x) + \",\" + str(y) + \"}\")"
   ]
  },
  {
   "cell_type": "markdown",
   "metadata": {},
   "source": [
    "## Point Addition\n",
    "While working with elliptic curve cryptography, we will need to add points together. In the background challenges, we did this geometrically by finding a line that passed through two points, finding the third intersection and then reflecting along the y-axis.\n",
    "\n",
    "It turns out that there is an efficient algorithm for calculating the point addition law for an elliptic curve.\n",
    "\n",
    "Taken from \"An Introduction to Mathematical Cryptography\", Jeffrey Hoffstein, Jill Pipher, Joseph H. Silverman, the following algorithm will calculate the addition of two points on an elliptic curve\n",
    "\n",
    "Algorithm for the addition of two points: P + Q\n",
    "\n",
    "(a) If P = O, then P + Q = Q.\n",
    "(b) Otherwise, if Q = O, then P + Q = P.\n",
    "(c) Otherwise, write P = (x1, y1) and Q = (x2, y2).\n",
    "(d) If x1 = x2 and y1 = −y2, then P + Q = O.\n",
    "(e) Otherwise:\n",
    "  (e1) if P ≠ Q: λ = (y2 - y1) / (x2 - x1)\n",
    "  (e2) if P = Q: λ = (3x12 + a) / 2y1\n",
    "(f) x3 = λ2 − x1 − x2,     y3 = λ(x1 −x3) − y1\n",
    "(g) P + Q = (x3, y3)\n"
   ]
  },
  {
   "cell_type": "code",
   "execution_count": 2,
   "metadata": {},
   "outputs": [
    {
     "name": "stdout",
     "output_type": "stream",
     "text": [
      "crypto{4215,2162}\n"
     ]
    }
   ],
   "source": [
    "from sage.all import *\n",
    "\n",
    "# E: Y2 = E(X3 + 497 X + 1768, p: 9739\n",
    "a, b, p = 497, 1768, 9739\n",
    "E = EllipticCurve(GF(p), [a, b])\n",
    "\n",
    "P = E((493, 5564))\n",
    "Q = E((1539, 4742))\n",
    "R = E((4403,5202))\n",
    "S = P + P + Q + R\n",
    "\n",
    "x, y = S.xy()\n",
    "print(\"crypto{\" + str(x) + \",\" + str(y) + \"}\")"
   ]
  },
  {
   "cell_type": "markdown",
   "metadata": {},
   "source": [
    "## Multiplicación escalar\n",
    "La multiplicación escalar de dos puntos se define mediante la suma repetida: 3P = P + P + P.\n",
    "\n",
    "En los próximos desafíos, usaremos la multiplicación escalar para crear un secreto compartido a través de un canal inseguro de manera similar a los desafíos Diffie-Hellman.\n",
    "\n",
    "Tomado de \"Introducción a la criptografía matemática\", Jeffrey Hoffstein, Jill Pipher, Joseph H. Silverman , el siguiente algoritmo calculará de manera eficiente la multiplicación escalar de un punto en una curva elíptica. Algoritmo de doble y suma para la multiplicación escalar del punto P por n . : P en E(F p ) y un número entero n > 0 1. Establecer Q = P y R = O. 2. Hacer un bucle mientras n > 0.   3. Si n ≡ 1 mod 2, establecer R = R + Q.   4 Conjunto Q = 2 Q y n = ⌊n/2⌋.   5. Si n > 0, continúe con el bucle en el Paso 2. 6. Devuelva el punto R, que es igual a nP.\n"
   ]
  },
  {
   "cell_type": "code",
   "execution_count": 5,
   "metadata": {},
   "outputs": [
    {
     "name": "stdout",
     "output_type": "stream",
     "text": [
      "crypto{9467,2742}\n"
     ]
    }
   ],
   "source": [
    "from sage.all import *\n",
    "\n",
    "# E: Y2 = E(X3 + 497 X + 1768, p: 9739\n",
    "a, b, p = 497, 1768, 9739\n",
    "E = EllipticCurve(GF(p), [a, b])\n",
    "\n",
    "P = E((2339, 2213))\n",
    "Q = 7863 * P\n",
    "\n",
    "x, y = Q.xy()\n",
    "\n",
    "print(\"crypto{\" + str(x) + \",\" + str(y) + \"}\")\n",
    "# Flag: crypto{9467,2742}"
   ]
  },
  {
   "cell_type": "markdown",
   "metadata": {},
   "source": [
    "## Curves and Logs\n",
    "\n",
    "El problema del logaritmo discreto de curva elíptica (ECDLP) es el problema de encontrar un número entero ntal que Q = nP.\n",
    "\n",
    "Como nos encontramos con el problema del logaritmo discreto, la multiplicación escalar de un punto parece ser un problema difícil de deshacer, ya que se ejecuta el algoritmo más eficiente en ese momento. Esto lo convierte en un gran candidato para la función de trampilla. Alice y Bob están hablando y quieren crear un secreto compartido para poder empezar a cifrar sus mensajes con algún protocolo criptográfico simétrico. Alice y Bob no confían en su conexión, por lo que necesitan una forma de crear un secreto que otros no puedan replicar. Alice y Bob se ponen de acuerdo sobre una curva , un primo y un punto generador.E(Fp)p1/2\n",
    "\n",
    "EpG\n",
    "\n",
    "En criptografía de curva elíptica, es importante que el orden de Gsea primo. Construir curvas seguras es complicado y se recomienda utilizar una curva preconstruida donde al cliente se le proporciona la curva, la prima y el generador que debe usar.\n",
    "\n",
    "\n",
    "Alice genera un entero aleatorio secreto y lo calcula. Bob genera un entero aleatorio secreto y lo calcula. Alice envía a Bob y Bob envía a Alice . Debido a la dureza del ECDLP, una espectadora Eve no puede calcular en un tiempo razonable. Luego Alice calcula y Bob calcula . Debido a la asociatividad de la multiplicación escalar, . Alice y Bob pueden usarlo como secreto compartido. Usando la curva, prima y generador:nAQA = nAG\n",
    "\n",
    "nBQB = nBG\n",
    "\n",
    "QAQBnA/B\n",
    "\n",
    "nAQBnBQA\n",
    "\n",
    "S = nAQB = nBQA\n",
    "\n",
    "S\n",
    "\n",
    "\n",
    "E: Y 2 = X 3 + 497 X + 1768, p: 9739, G: (1804,5368)\n",
    "\n",
    "Calcula el secreto compartido después de que Alice te lo envíe , con tu número entero secreto . Genere una clave calculando el hash SHA1 de la coordenada (tome la representación entera de la coordenada y conviértala en una cadena). La bandera es el resumen hexadecimal que encuentres.QA = (815, 3190)nB = 1829\n",
    "\n",
    "x\n",
    "\n",
    "¡¡Esta curva no es criptográficamente segura!! Hemos elegido una pequeña ventaja para estos desafíos iniciales para mantener todo rápido mientras aprendes. Las curvas criptográficamente seguras tienen números primos de tamaño de bits ≈ 256"
   ]
  },
  {
   "cell_type": "code",
   "execution_count": 6,
   "metadata": {},
   "outputs": [
    {
     "name": "stdout",
     "output_type": "stream",
     "text": [
      "crypto{80e5212754a824d3a4aed185ace4f9cac0f908bf}\n"
     ]
    }
   ],
   "source": [
    "from sage.all import *\n",
    "from hashlib import sha1\n",
    "\n",
    "# E: Y2 = E(X3 + 497 X + 1768, p: 9739\n",
    "a, b, p = 497, 1768, 9739\n",
    "E = EllipticCurve(GF(p), [a, b])\n",
    "\n",
    "Q  = E((815, 3190))\n",
    "nb = 1829\n",
    "x  = (nb * Q).xy()[0]\n",
    "\n",
    "print(\"crypto{\" + sha1(str(x).encode()).hexdigest() + \"}\")"
   ]
  },
  {
   "cell_type": "markdown",
   "metadata": {},
   "source": [
    "## Efficient Exchange\n",
    "\n",
    "Alice and Bob are looking at the Elliptic Curve Discrete Logarithm Problem and thinking about the data they send.\n",
    "\n",
    "They want to try and keep their data transfer as efficient as possible and realise that sending both the x and y coordinate of their public key isn't necessary.\n",
    "\n",
    "As long as Alice and Bob agree on the curve parameters, there are only ever two possible values of y for a given x.\n",
    "\n",
    "In fact, given either of the values of y permissible from the value x they receive, the x coordinate of their shared secret will be the same.\n",
    "\n",
    " For these challenges, we have used a prime p ≡ 3 mod 4, which will help you find y from y2.\n",
    "\n",
    "Using the curve, prime and generator:\n",
    "\n",
    "E: Y2 = X3 + 497 X + 1768, p: 9739, G: (1804,5368)\n",
    "\n",
    "Calculate the shared secret after Alice sends you q_x = 4726, with your secret integer nB = 6534.\n",
    "\n",
    "Use the decrypt.py file to decode the flag\n",
    "\n",
    "{'iv': 'cd9da9f1c60925922377ea952afc212c', 'encrypted_flag': 'febcbe3a3414a730b125931dccf912d2239f3e969c4334d95ed0ec86f6449ad8'}"
   ]
  },
  {
   "cell_type": "code",
   "execution_count": 11,
   "metadata": {},
   "outputs": [
    {
     "name": "stdout",
     "output_type": "stream",
     "text": [
      "crypto{3ff1c1ent_k3y_3xch4ng3}\n"
     ]
    }
   ],
   "source": [
    "from sage.all import *\n",
    "\n",
    "\n",
    "a, b, p = 497, 1768, 9739\n",
    "E = EllipticCurve(GF(p), [a, b])\n",
    "\n",
    "A  = E.lift_x(GF(p)(4726))\n",
    "nb = 6534\n",
    "x  = (nb * A).xy()[0]\n",
    "\n",
    "from Crypto.Cipher import AES\n",
    "from Crypto.Util.Padding import pad, unpad\n",
    "import hashlib\n",
    "\n",
    "\n",
    "def is_pkcs7_padded(message):\n",
    "    padding = message[-message[-1]:]\n",
    "    return all(padding[i] == len(padding) for i in range(0, len(padding)))\n",
    "\n",
    "\n",
    "def decrypt_flag(shared_secret: int, iv: str, ciphertext: str):\n",
    "    sha1 = hashlib.sha1()\n",
    "    sha1.update(str(shared_secret).encode('ascii'))\n",
    "    key = sha1.digest()[:16]\n",
    "    ciphertext = bytes.fromhex(ciphertext)\n",
    "    iv = bytes.fromhex(iv)\n",
    "    cipher = AES.new(key, AES.MODE_CBC, iv)\n",
    "    plaintext = cipher.decrypt(ciphertext)\n",
    "\n",
    "    if is_pkcs7_padded(plaintext):\n",
    "        return unpad(plaintext, 16).decode('ascii')\n",
    "    else:\n",
    "        return plaintext.decode('ascii')\n",
    "\n",
    "\n",
    "shared_secret = x\n",
    "iv = 'cd9da9f1c60925922377ea952afc212c'\n",
    "ciphertext = 'febcbe3a3414a730b125931dccf912d2239f3e969c4334d95ed0ec86f6449ad8'\n",
    "\n",
    "print(decrypt_flag(shared_secret, iv, ciphertext))\n"
   ]
  },
  {
   "cell_type": "markdown",
   "metadata": {},
   "source": [
    "## Smooth Criminal\n",
    "\n",
    "Pasé la mañana leyendo sobre ECC y ahora estoy listo para comenzar a cifrar mis mensajes. Le envié una bandera a Bob hoy, pero nunca la leerás.\n"
   ]
  },
  {
   "cell_type": "code",
   "execution_count": 6,
   "metadata": {},
   "outputs": [
    {
     "name": "stdout",
     "output_type": "stream",
     "text": [
      "Requirement already satisfied: pycryptodome in /Users/santiagotene/.sage/local/lib/python3.11/site-packages (3.20.0)\n"
     ]
    }
   ],
   "source": [
    "!pip install pycryptodome"
   ]
  },
  {
   "cell_type": "code",
   "execution_count": 1,
   "metadata": {},
   "outputs": [
    {
     "name": "stdout",
     "output_type": "stream",
     "text": [
      "crypto{n07_4ll_curv3s_4r3_s4f3_curv3s}\n"
     ]
    }
   ],
   "source": [
    "from sage.all import *\n",
    "from Crypto.Cipher import AES\n",
    "from Crypto.Util.Padding import unpad\n",
    "import hashlib\n",
    "\n",
    "# Define the curve\n",
    "p = 310717010502520989590157367261876774703\n",
    "a = 2\n",
    "b = 3\n",
    "\n",
    "E=EllipticCurve(GF(p),[a,b])\n",
    "\n",
    "# Generator\n",
    "g_x = 179210853392303317793440285562762725654\n",
    "g_y = 105268671499942631758568591033409611165\n",
    "G = E.point((g_x, g_y))\n",
    "\n",
    "# Bob's public key\n",
    "b_x = 272640099140026426377756188075937988094\n",
    "b_y = 51062462309521034358726608268084433317\n",
    "QB = E.point((b_x, b_y))\n",
    "\n",
    "#Alice's public key\n",
    "a_x=280810182131414898730378982766101210916\n",
    "a_y=291506490768054478159835604632710368904\n",
    "QA=E.point((a_x,a_y))\n",
    "\n",
    "#order of generator\n",
    "n=G.order()\n",
    "\n",
    "#factoring order! --> proves E is a smooth curve mod p\n",
    "fac=list(factor(n))\n",
    "\n",
    "moduli=[]\n",
    "remainder=[]\n",
    "\n",
    "#solving dlp using pohlig-hellman algorithm\n",
    "for i,j in fac:\n",
    "\tmod=i**j\n",
    "\t_g_=G*ZZ(n/mod)\n",
    "\t_q_=QA*ZZ(n/mod)\n",
    "\n",
    "\tdl=discrete_log(_q_,_g_,operation=\"+\")\n",
    "\tmoduli.append(mod)\n",
    "\tremainder.append(dl)\n",
    "\t#print(dl)\n",
    "\n",
    "#Alice's secret integer\n",
    "nA=crt(remainder,moduli)\n",
    "\n",
    "#shared secret\n",
    "S=QB*nA\n",
    "\n",
    "#key for AES\n",
    "sha1 = hashlib.sha1()\n",
    "sha1.update(str(S[0]).encode('ascii'))\n",
    "key = sha1.digest()[:16]\n",
    "\n",
    "iv=bytes.fromhex('07e2628b590095a5e332d397b8a59aa7')\n",
    "enc=bytes.fromhex('8220b7c47b36777a737f5ef9caa2814cf20c1c1ef496ec21a9b4833da24a008d0870d3ac3a6ad80065c138a2ed6136af')\n",
    "\n",
    "#AES object\n",
    "cipher=AES.new(key,AES.MODE_CBC,iv)\n",
    "flag=unpad(cipher.decrypt(enc),16).decode()\n",
    "\n",
    "#output\n",
    "print(flag)"
   ]
  },
  {
   "cell_type": "markdown",
   "metadata": {},
   "source": [
    "## Exceptional Curves\n",
    "\n",
    "Aprendiendo de mis errores... Esta vez me he asegurado de que mi curva sea de orden primo. Esta bandera estará a salvo para siempre."
   ]
  },
  {
   "cell_type": "code",
   "execution_count": 3,
   "metadata": {},
   "outputs": [],
   "source": [
    "from Crypto.Cipher import AES\n",
    "from Crypto.Util.Padding import pad, unpad\n",
    "from random import randint\n",
    "import hashlib\n",
    "\n",
    "FLAG = b'crypto{??????????????????????}'\n",
    "\n",
    "def HenselLift(P,p,prec):\n",
    "    E = P.curve()\n",
    "    Eq = E.change_ring(QQ)\n",
    "    Ep = Eq.change_ring(Qp(p,prec))\n",
    "    x_P,y_P = P.xy()\n",
    "    x_lift = ZZ(x_P)\n",
    "    y_lift = ZZ(y_P)\n",
    "    x, y, a1, a2, a3, a4, a6 = var('x,y,a1,a2,a3,a4,a6')\n",
    "    f(a1,a2,a3,a4,a6,x,y) = y^2 + a1*x*y + a3*y - x^3 - a2*x^2 - a4*x - a6\n",
    "    g(y) = f(ZZ(Eq.a1()),ZZ(Eq.a2()),ZZ(Eq.a3()),ZZ(Eq.a4()),ZZ(Eq.a6()),ZZ(x_P),y)\n",
    "    gDiff = g.diff()\n",
    "    for i in range(1,prec):\n",
    "        uInv = ZZ(gDiff(y=y_lift))\n",
    "        u = uInv.inverse_mod(p^i)\n",
    "        y_lift = y_lift - u*g(y_lift)\n",
    "        y_lift = ZZ(Mod(y_lift,p^(i+1)))\n",
    "    y_lift = y_lift+O(p^prec)\n",
    "    return Ep([x_lift,y_lift])\n",
    "\n",
    "def SmartAttack(P,Q,p,prec):\n",
    "    E = P.curve()\n",
    "    Eqq = E.change_ring(QQ)\n",
    "    Eqp = Eqq.change_ring(Qp(p,prec))\n",
    "\n",
    "    P_Qp = HenselLift(P,p,prec)\n",
    "    Q_Qp = HenselLift(Q,p,prec)\n",
    "\n",
    "    p_times_P = p*P_Qp\n",
    "    p_times_Q=p*Q_Qp\n",
    "\n",
    "    x_P,y_P = p_times_P.xy()\n",
    "    x_Q,y_Q = p_times_Q.xy()\n",
    "\n",
    "    phi_P = -(x_P/y_P)\n",
    "    phi_Q = -(x_Q/y_Q)\n",
    "    k = phi_Q/phi_P\n",
    "    k = Mod(k,p)\n",
    "    return k\n",
    "\n",
    "def shared_secret(public_key, private_key):\n",
    "    S = public_key * private_key\n",
    "    return S.xy()[0]\n",
    "\n",
    "\n",
    "# Curve params\n",
    "p = 0xa15c4fb663a578d8b2496d3151a946119ee42695e18e13e90600192b1d0abdbb6f787f90c8d102ff88e284dd4526f5f6b6c980bf88f1d0490714b67e8a2a2b77\n",
    "a = 0x5e009506fcc7eff573bc960d88638fe25e76a9b6c7caeea072a27dcd1fa46abb15b7b6210cf90caba982893ee2779669bac06e267013486b22ff3e24abae2d42\n",
    "b = 0x2ce7d1ca4493b0977f088f6d30d9241f8048fdea112cc385b793bce953998caae680864a7d3aa437ea3ffd1441ca3fb352b0b710bb3f053e980e503be9a7fece\n",
    "\n",
    "# Define curve\n",
    "E = EllipticCurve(GF(p), [a, b])\n",
    "\n",
    "# Protect against Pohlig-Hellman Algorithm\n",
    "assert is_prime(E.order())\n",
    "\n",
    "# Create generator\n",
    "G = E([3034712809375537908102988750113382444008758539448972750581525810900634243392172703684905257490982543775233630011707375189041302436945106395617312498769005, 4986645098582616415690074082237817624424333339074969364527548107042876175480894132576399611027847402879885574130125050842710052291870268101817275410204850])\n",
    "H = E([4748198372895404866752111766626421927481971519483471383813044005699388317650395315193922226704604937454742608233124831870493636003725200307683939875286865, 2421873309002279841021791369884483308051497215798017509805302041102468310636822060707350789776065212606890489706597369526562336256272258544226688832663757])\n",
    "\n",
    "k = SmartAttack(G,H,p,8)\n",
    "\n",
    "b_x = 0x7f0489e4efe6905f039476db54f9b6eac654c780342169155344abc5ac90167adc6b8dabacec643cbe420abffe9760cbc3e8a2b508d24779461c19b20e242a38\n",
    "b_y = 0xdd04134e747354e5b9618d8cb3f60e03a74a709d4956641b234daa8a65d43df34e18d00a59c070801178d198e8905ef670118c15b0906d3a00a662d3a2736bf\n",
    "B = E(b_x, b_y)\n",
    "secret = shared_secret(B, int(k))"
   ]
  },
  {
   "cell_type": "code",
   "execution_count": 4,
   "metadata": {},
   "outputs": [
    {
     "name": "stdout",
     "output_type": "stream",
     "text": [
      "crypto{H3ns3l_lift3d_my_fl4g!}\n"
     ]
    }
   ],
   "source": [
    "from Crypto.Cipher import AES\n",
    "from Crypto.Util.Padding import pad, unpad\n",
    "import hashlib\n",
    "\n",
    "\n",
    "def is_pkcs7_padded(message):\n",
    "    padding = message[-message[-1]:]\n",
    "    return all(padding[i] == len(padding) for i in range(0, len(padding)))\n",
    "\n",
    "\n",
    "def decrypt_flag(shared_secret: int, iv: str, ciphertext: str):\n",
    "    # Derive AES key from shared secret\n",
    "    sha1 = hashlib.sha1()\n",
    "    sha1.update(str(shared_secret).encode('ascii'))\n",
    "    key = sha1.digest()[:16]\n",
    "    # Decrypt flag\n",
    "    ciphertext = bytes.fromhex(ciphertext)\n",
    "    iv = bytes.fromhex(iv)\n",
    "    cipher = AES.new(key, AES.MODE_CBC, iv)\n",
    "    plaintext = cipher.decrypt(ciphertext)\n",
    "\n",
    "    if is_pkcs7_padded(plaintext):\n",
    "        return unpad(plaintext, 16).decode('ascii')\n",
    "    else:\n",
    "        return plaintext.decode('ascii')\n",
    "\n",
    "\n",
    "shared_secret = secret\n",
    "iv = \"719700b2470525781cc844db1febd994\"\n",
    "ciphertext = \"335470f413c225b705db2e930b9d460d3947b3836059fb890b044e46cbb343f0\"\n",
    "\n",
    "print(decrypt_flag(shared_secret, iv, ciphertext))"
   ]
  },
  {
   "cell_type": "markdown",
   "metadata": {},
   "source": [
    "## Micro Transmissions\n",
    "\n",
    "He estado ajustando la longitud de mis bits para garantizar que mis paquetes de datos y tiempos de cálculo sean súper eficientes."
   ]
  },
  {
   "cell_type": "code",
   "execution_count": 8,
   "metadata": {},
   "outputs": [
    {
     "name": "stdout",
     "output_type": "stream",
     "text": [
      "factor: 7 done\n",
      "factor: 11 done\n",
      "factor: 17 done\n",
      "factor: 191 done\n",
      "factor: 317 done\n",
      "factor: 331 done\n",
      "factor: 5221385621 done\n",
      "factor: 5397618469 done\n",
      "crypto{d0nt_l3t_n_b3_t00_sm4ll}\n"
     ]
    }
   ],
   "source": [
    "from Crypto.Cipher import AES\n",
    "from Crypto.Util.Padding import unpad\n",
    "from hashlib import sha1\n",
    "\n",
    "p = 99061670249353652702595159229088680425828208953931838069069584252923270946291\n",
    "a = 1\n",
    "b = 4\n",
    "E = EllipticCurve(GF(p), [a,b])\n",
    "G = E(43190960452218023575787899214023014938926631792651638044680168600989609069200, 20971936269255296908588589778128791635639992476076894152303569022736123671173)\n",
    "\n",
    "# worked in sage 9:\n",
    "#A = E.lift_x(87360200456784002948566700858113190957688355783112995047798140117594305287669)\n",
    "#B = E.lift_x(6082896373499126624029343293750138460137531774473450341235217699497602895121)\n",
    "\n",
    "# fix for sage 10:\n",
    "A = E.lift_x(87360200456784002948566700858113190957688355783112995047798140117594305287669, all=True)[1]\n",
    "B = E.lift_x(6082896373499126624029343293750138460137531774473450341235217699497602895121, all=True)[1]\n",
    "\n",
    "#print(E.order().factor())\n",
    "#7 * 11 * 17 * 191 * 317 * 331 * 5221385621 * 5397618469 * 210071842937040101 * 637807437018177170959577732683\n",
    "\n",
    "#if priv key is small enough we don't need all of them\n",
    "primes = [7, 11, 17, 191, 317, 331, 5221385621, 5397618469] \n",
    "dlogs = []\n",
    "for fac in primes:\n",
    "    t = int(G.order()) // int(fac)\n",
    "    dlog = (t*G).discrete_log(t*A)\n",
    "    dlogs += [dlog]\n",
    "    print(\"factor:\", str(fac), \"done\")\n",
    "d = crt(dlogs, primes)\n",
    "\n",
    "secret = (d*B).xy()[0]\n",
    "\n",
    "iv = bytes.fromhex(\"ceb34a8c174d77136455971f08641cc5\")\n",
    "ciphertext = bytes.fromhex(\"b503bf04df71cfbd3f464aec2083e9b79c825803a4d4a43697889ad29eb75453\")\n",
    "key = sha1(str(secret).encode('ascii')).digest()[:16]\n",
    "cipher = AES.new(key, AES.MODE_CBC, iv)\n",
    "print(unpad(cipher.decrypt(ciphertext), 16).decode())"
   ]
  },
  {
   "cell_type": "markdown",
   "metadata": {},
   "source": [
    "## Elliptic Nodes\n",
    "\n",
    "He incluido una capa adicional de seguridad al seleccionar mis propios parámetros de curva a,by mantenerlos en secreto."
   ]
  },
  {
   "cell_type": "code",
   "execution_count": 9,
   "metadata": {},
   "outputs": [
    {
     "name": "stdout",
     "output_type": "stream",
     "text": [
      "175707932493016342199601625200584496546434097133638117913010244817446203005 b'crypto{s1ngul4r_s1mplif1c4t1on}'\n"
     ]
    }
   ],
   "source": [
    "from Crypto.Util.number import inverse,bytes_to_long, long_to_bytes\n",
    "\n",
    "def cusp_solver(G,H,p):\n",
    "    R = Integers(p)\n",
    "    u = R(G[1])//R(G[0]) \n",
    "    v = R(H[1])//R(H[0]) \n",
    "    return discrete_log(v, u)\n",
    "def node_solver(G,H,p,a):\n",
    "    R = Integers(p)\n",
    "    u = R(G[1]-a*G[0])//R(G[1]+a*G[0])\n",
    "    v = R(H[1]-a*H[0])//R(H[1]+a*H[0])\n",
    "    return discrete_log(v, u)\n",
    "\n",
    "p = 4368590184733545720227961182704359358435747188309319510520316493183539079703\n",
    "g = [8742397231329873984594235438374590234800923467289367269837473862487362482, 225987949353410341392975247044711665782695329311463646299187580326445253608]\n",
    "A = [2582928974243465355371953056699793745022552378548418288211138499777818633265, 2421683573446497972507172385881793260176370025964652384676141384239699096612]\n",
    "\n",
    "#y^2 = x^3 + ax + b\n",
    "a = ((g[1]**2) - (A[1]**2) - (g[0]**3) + (A[0]**3))//Integers(p)(g[0] - A[0])\n",
    "b = (g[1]**2) - (g[0]**3) - (a*g[0])\n",
    "\n",
    "P.<x,y> = PolynomialRing(GF(p))\n",
    "f = (x^3 + a*x + b)\n",
    "n_a = 0\n",
    "if len(f.factor()) == 1:\n",
    "    n_a = cusp_solver(g,A,p)\n",
    "if len(f.factor()) == 2:\n",
    "    singular_pt = f.factor()[0][0].coefficient({x:0}) + f.factor()[1][0].coefficient({x:0})\n",
    "    if f.factor()[0][1] == 2:\n",
    "        singular_pt -= 2*f.factor()[0][0].coefficient({x:0})\n",
    "        g[0] += f.factor()[0][0].coefficient({x:0})\n",
    "        A[0] += f.factor()[0][0].coefficient({x:0})\n",
    "    else:\n",
    "        singular_pt -= 2*f.factor()[1][0].coefficient({x:0})\n",
    "        g[0] += f.factor()[1][0].coefficient({x:0})\n",
    "        A[0] += f.factor()[1][0].coefficient({x:0})\n",
    "    singular_pt = GF(p)(singular_pt).square_root()\n",
    "    n_a = node_solver(g,A,p,singular_pt)\n",
    "\n",
    "print(n_a, long_to_bytes(n_a))"
   ]
  },
  {
   "cell_type": "markdown",
   "metadata": {},
   "source": [
    "## Moving Problems\n",
    "\n",
    "He aprendido que cuando la vida te da limones, si miras las cosas bien, saben a pares."
   ]
  },
  {
   "cell_type": "code",
   "execution_count": 12,
   "metadata": {},
   "outputs": [
    {
     "name": "stdout",
     "output_type": "stream",
     "text": [
      "2\n",
      "103686954799254136375814\n",
      "computing pairings\n",
      "computing log\n"
     ]
    }
   ],
   "source": [
    "#Moving Problems\n",
    "def mov_attack(a,b,p,gx,gy,ax):\n",
    "    F = GF(p)\n",
    "    E = EllipticCurve(F,[a,b])\n",
    "    order = E.order()\n",
    "\n",
    "    k = 1 \n",
    "    while k<100:\n",
    "        if ((p**k)-1)%order == 0:\n",
    "            break\n",
    "        k += 1\n",
    "    print(k)\n",
    "    \n",
    "    Fy = GF(p^k,'y')\n",
    "    Ee = EllipticCurve(Fy,[a,b])\n",
    "\n",
    "    P = E((gx,gy))\n",
    "    xP = E.lift_x(ax)\n",
    "\n",
    "    Pe = Ee(P)\n",
    "    xPe = Ee(xP)\n",
    "\n",
    "    R = Ee.random_point()\n",
    "    m = R.order()\n",
    "    d = gcd(m, P.order())\n",
    "    print(d)\n",
    "    Q = (m//d)*R\n",
    "\n",
    "    assert P.order()/Q.order() in ZZ\n",
    "    assert P.order() == Q.order()\n",
    "\n",
    "    n = P.order()\n",
    "    print('computing pairings')\n",
    "    alpha = Pe.weil_pairing(Q,n)\n",
    "    beta = xPe.weil_pairing(Q,n)\n",
    "\n",
    "    print('computing log')\n",
    "    dd = beta.log(alpha)\n",
    "    return dd\n",
    "\n",
    "\n",
    "gx = 479691812266187139164535778017\n",
    "gy = 568535594075310466177352868412\n",
    "\n",
    "a = -35\n",
    "b = 98\n",
    "p = 1331169830894825846283645180581\n",
    "\n",
    "E = EllipticCurve(GF(p), [a, b])\n",
    "A = E.lift_x(1110072782478160369250829345256)\n",
    "B = E.lift_x(1290982289093010194550717223760)\n",
    "\n",
    "n_a = mov_attack(a,b,p,gx,gy,1110072782478160369250829345256)\n",
    "secret = (B*int(n_a)).xy()[0]"
   ]
  },
  {
   "cell_type": "code",
   "execution_count": 14,
   "metadata": {},
   "outputs": [
    {
     "name": "stdout",
     "output_type": "stream",
     "text": [
      "2 * 7 * 271 * 23687 * 1153763334005213\n",
      "2 * 7 * 271 * 23687 * 1153763334005213\n",
      "7 * 271 * 23687 * 1153763334005213\n",
      "small_facotrs: 89868478\n",
      "32135505 * 1153763334005213 * G == 1153763334005213 * P1\n",
      "774386641791944 * 89868478 * G == 89868478 * P1\n"
     ]
    },
    {
     "ename": "ModuleNotFoundError",
     "evalue": "No module named 'decrypt'",
     "output_type": "error",
     "traceback": [
      "\u001b[0;31m---------------------------------------------------------------------------\u001b[0m",
      "\u001b[0;31mModuleNotFoundError\u001b[0m                       Traceback (most recent call last)",
      "Cell \u001b[0;32mIn [14], line 57\u001b[0m\n\u001b[1;32m     53\u001b[0m \u001b[38;5;28;01massert\u001b[39;00m n_a \u001b[38;5;241m*\u001b[39m G \u001b[38;5;241m==\u001b[39m P1\n\u001b[1;32m     55\u001b[0m shared_secret \u001b[38;5;241m=\u001b[39m (n_a \u001b[38;5;241m*\u001b[39m P2)[Integer(\u001b[38;5;241m0\u001b[39m)]\n\u001b[0;32m---> 57\u001b[0m \u001b[38;5;28;01mfrom\u001b[39;00m \u001b[38;5;21;01mdecrypt\u001b[39;00m \u001b[38;5;28;01mimport\u001b[39;00m decrypt_flag\n\u001b[1;32m     58\u001b[0m data \u001b[38;5;241m=\u001b[39m {\u001b[38;5;124m'\u001b[39m\u001b[38;5;124miv\u001b[39m\u001b[38;5;124m'\u001b[39m: \u001b[38;5;124m'\u001b[39m\u001b[38;5;124meac58c26203c04f68d63dc2c58d79aca\u001b[39m\u001b[38;5;124m'\u001b[39m, \u001b[38;5;124m'\u001b[39m\u001b[38;5;124mencrypted_flag\u001b[39m\u001b[38;5;124m'\u001b[39m: \u001b[38;5;124m'\u001b[39m\u001b[38;5;124mbb9ecbd3662d0671fd222ccb07e27b5500f304e3621a6f8e9c815bc8e4e6ee6ebc718ce9ca115cb4e41acb90dbcabb0d\u001b[39m\u001b[38;5;124m'\u001b[39m}\n\u001b[1;32m     59\u001b[0m \u001b[38;5;28mprint\u001b[39m(decrypt_flag(shared_secret, data[\u001b[38;5;124m'\u001b[39m\u001b[38;5;124miv\u001b[39m\u001b[38;5;124m'\u001b[39m], data[\u001b[38;5;124m'\u001b[39m\u001b[38;5;124mencrypted_flag\u001b[39m\u001b[38;5;124m'\u001b[39m]))\n",
      "\u001b[0;31mModuleNotFoundError\u001b[0m: No module named 'decrypt'"
     ]
    }
   ],
   "source": [
    "from sage.all import EllipticCurve, GF, factor, Integer, CRT\n",
    "\n",
    "# Define Curve params\n",
    "p = 1331169830894825846283645180581\n",
    "a = -35\n",
    "b = 98\n",
    "E = EllipticCurve(GF(p), [a,b])\n",
    "G = E.gens()[0]\n",
    "print(factor(G.order()))\n",
    "# 2 * 7 * 271 * 23687 * 1153763334005213\n",
    "\n",
    "P1 = E(1110072782478160369250829345256, 800079550745409318906383650948)\n",
    "P2 = E(1290982289093010194550717223760, 762857612860564354370535420319)\n",
    "\n",
    "print(factor(P1.order()))\n",
    "# 2 * 7 * 271 * 23687 * 1153763334005213\n",
    "\n",
    "# We can forget about P2 for now\n",
    "print(factor(P2.order())) \n",
    "# 7 * 271 * 23687 * 1153763334005213 => n_b is even\n",
    "\n",
    "small_facotrs, big_factor = 2 * 7 * 271 * 23687, 1153763334005213\n",
    "print(f'small_facotrs: {small_facotrs}')\n",
    "P1_small = big_factor * P1\n",
    "G_small = big_factor * G\n",
    "n_a_small = G_small.discrete_log(P1_small)\n",
    "print(f'{n_a_small} * {big_factor} * G == {big_factor} * P1')\n",
    "# 32135505 * 1153763334005213 * G == 1153763334005213 * P1\n",
    "assert n_a_small * G_small == P1_small\n",
    "\n",
    "P1_big = small_facotrs * P1\n",
    "G_big = small_facotrs * G\n",
    "\n",
    "# Whale breeding :)\n",
    "l = Integer(big_factor)\n",
    "assert p*p % l == 1 # embeding degree is 2!\n",
    "E_ext = E.base_extend(GF(p*p))\n",
    "P1_big_ext = E_ext(P1_big)\n",
    "G_big_ext = E_ext(G_big)\n",
    "T = E_ext.random_point() # hopefully we are not unlucky\n",
    "T_low_order = T * int(T.order()//l) \n",
    "assert P1_big_ext.order() == G_big_ext.order() == G_big_ext.order() == l\n",
    "\n",
    "alpha = G_big_ext.weil_pairing(T_low_order, l)\n",
    "beta = P1_big_ext.weil_pairing(T_low_order, l)\n",
    "n_a_big = beta.log(alpha)\n",
    "\n",
    "print(f'{n_a_big} * {small_facotrs} * G == {small_facotrs} * P1')\n",
    "# 774386641791944 * 89868478 * G == 89868478 * P1\n",
    "assert int(n_a_big) * G_big == P1_big\n",
    "\n",
    "n_a = CRT(n_a_small, n_a_big, small_facotrs, big_factor)\n",
    "assert n_a * G == P1\n",
    "\n",
    "shared_secret = (n_a * P2)[0]\n",
    "\n",
    "from decrypt import decrypt_flag\n",
    "data = {'iv': 'eac58c26203c04f68d63dc2c58d79aca', 'encrypted_flag': 'bb9ecbd3662d0671fd222ccb07e27b5500f304e3621a6f8e9c815bc8e4e6ee6ebc718ce9ca115cb4e41acb90dbcabb0d'}\n",
    "print(decrypt_flag(shared_secret, data['iv'], data['encrypted_flag']))"
   ]
  },
  {
   "cell_type": "markdown",
   "metadata": {},
   "source": [
    "## Real Curve Crypto\n",
    "\n",
    "Al desarrollar un sistema criptográfico seguro, la regla más importante es mantenerlo real."
   ]
  },
  {
   "cell_type": "code",
   "execution_count": 5,
   "metadata": {},
   "outputs": [
    {
     "name": "stdout",
     "output_type": "stream",
     "text": [
      "Collecting tqdm\n",
      "  Downloading tqdm-4.66.1-py3-none-any.whl.metadata (57 kB)\n",
      "\u001b[2K     \u001b[90m━━━━━━━━━━━━━━━━━━━━━━━━━━━━━━━━━━━━━━━\u001b[0m \u001b[32m57.6/57.6 kB\u001b[0m \u001b[31m564.6 kB/s\u001b[0m eta \u001b[36m0:00:00\u001b[0ma \u001b[36m0:00:01\u001b[0m\n",
      "\u001b[?25hDownloading tqdm-4.66.1-py3-none-any.whl (78 kB)\n",
      "\u001b[2K   \u001b[90m━━━━━━━━━━━━━━━━━━━━━━━━━━━━━━━━━━━━━━━━\u001b[0m \u001b[32m78.3/78.3 kB\u001b[0m \u001b[31m2.6 MB/s\u001b[0m eta \u001b[36m0:00:00\u001b[0m\n",
      "\u001b[?25hInstalling collected packages: tqdm\n",
      "\u001b[33m  WARNING: The script tqdm is installed in '/Users/santiagotene/.sage/local/bin' which is not on PATH.\n",
      "  Consider adding this directory to PATH or, if you prefer to suppress this warning, use --no-warn-script-location.\u001b[0m\u001b[33m\n",
      "\u001b[0mSuccessfully installed tqdm-4.66.1\n",
      "Note: you may need to restart the kernel to use updated packages.\n"
     ]
    }
   ],
   "source": [
    "pip install tqdm"
   ]
  },
  {
   "cell_type": "code",
   "execution_count": 2,
   "metadata": {},
   "outputs": [
    {
     "name": "stderr",
     "output_type": "stream",
     "text": [
      "hb - lb = mpf('0.000000000000000000000000000000000000000000000000000000000000000\n",
      "hb - lb = mpf('0.000000000000000000000000000000000000000000000000000000000000000\n"
     ]
    },
    {
     "name": "stdout",
     "output_type": "stream",
     "text": [
      "Flag:  b'crypto{real_fields_arent_finite}'\n"
     ]
    }
   ],
   "source": [
    "import json\n",
    "\n",
    "from decimal import Decimal\n",
    "from mpmath import mp\n",
    "from tqdm import trange\n",
    "from Crypto.Cipher import AES\n",
    "from Crypto.Util.number import *\n",
    "from Crypto.Util.Padding import unpad\n",
    "from sage.all import *\n",
    "\n",
    "import random\n",
    "\n",
    "\n",
    "mp.dps = 1000\n",
    "pari(\"\\p 1000\")\n",
    "RR = RealField(3000)\n",
    "\n",
    "class Custom_Point:\n",
    "    def __init__(self, a, b):\n",
    "        self.x = a\n",
    "        self.y = b\n",
    "    \n",
    "# for y^2 = x^3 + g1*x + g2\n",
    "class Custom_Elliptic_Curve:\n",
    "    def __init__(self, a, b):\n",
    "        self.g1 = a\n",
    "        self.g2 = b\n",
    "        self.e = [0, 1 ,2]\n",
    "        if (4*a*a*a) + (27*b*b) < 0:\n",
    "            self.e = []\n",
    "            x = var('x') \n",
    "            eq = (x**3) + (a*x) + b  \n",
    "            roots = eq.roots()\n",
    "            for i in range(3):\n",
    "                self.e.append(roots[i][0])\n",
    "            self.e.sort()\n",
    "        self.torus_img_period = mp.pi / self.M(mp.sqrt(self.e[2] - self.e[0]), mp.sqrt(self.e[1] - self.e[0]))\n",
    "        self.torus_real_period = mp.pi / self.M(mp.sqrt(self.e[2] - self.e[0]), mp.sqrt(self.e[2] - self.e[1]))\n",
    "\n",
    "    def lift_x(self, x):\n",
    "        return mp.sqrt(x**3 + (self.g1*x) + self.g2)\n",
    "    \n",
    "    def get_random_point(self):\n",
    "        gx = mp.mpf(1 + random.random())\n",
    "        gy = self.lift_x(gx)\n",
    "        return Custom_Point(gx, gy)\n",
    "    \n",
    "    def addition(self, C1, C2):\n",
    "        slope = 0\n",
    "        if C1.x == C2.x and C1.y == C2.y:\n",
    "            slope = (3*C1.x*C1.x + self.g1) / (2*C1.y) \n",
    "        elif C1.x == C2.x:\n",
    "            return None\n",
    "        else:\n",
    "            slope = (C1.y - C2.y) / (C1.x - C2.x) \n",
    "        x_r = (slope**2) - C1.x - C2.x\n",
    "        y_r = (slope*(C1.x - x_r)) - C1.y\n",
    "        return Custom_Point(x_r, y_r)\n",
    "\n",
    "    def scalar_multiply(self, P, m):\n",
    "        if m == 1:\n",
    "            return P\n",
    "        half_mult = self.scalar_multiply(P, m // 2)\n",
    "        ans = self.addition(half_mult, half_mult)\n",
    "        if m % 2 == 1:\n",
    "            ans = self.addition(ans, P)\n",
    "        return ans\n",
    "\n",
    "    def M(self, a, b):\n",
    "        for _ in range(100):\n",
    "            a, b = (a + b) / 2, mp.sqrt(a * b)\n",
    "        return a    \n",
    "    \n",
    "    def weierstrass_p(self, z):\n",
    "        pari(\"\\p 1000\")\n",
    "        pari(f\"E=ellinit([{self.g1}, {self.g2}])\")\n",
    "        return pari(f\"ellwp(E, {z})\")\n",
    "\n",
    "\n",
    "    def inverse_weierstrass_p(self, P, y=None):\n",
    "        lb = self.torus_real_period / 2 + 10 ** -5\n",
    "        hb = self.torus_real_period - 10 ** -5\n",
    "        tq = trange(500)\n",
    "        for _ in tq:\n",
    "            tq.set_description(f'{hb - lb = }')\n",
    "            mid = (lb + hb) / 2\n",
    "            if self.weierstrass_p(mid) > P.x:\n",
    "                hb = mid\n",
    "            else:\n",
    "                lb = mid\n",
    "        if y and y < 0:\n",
    "            return self.torus_real_period - lb\n",
    "        return lb\n",
    "    \n",
    "def solve_dlp_ecc(curve, G, P):\n",
    "    g_z = curve.inverse_weierstrass_p(G)\n",
    "    p_z = curve.inverse_weierstrass_p(P)\n",
    "\n",
    "    N = 10 ** 200\n",
    "    ks = 2 ** 128\n",
    "    eps = 10 ** -112\n",
    "    mat = Matrix(QQ, 3, 4)\n",
    "    mat[0, 0] = 1\n",
    "    mat[0, 3] = floor(N * g_z / curve.torus_real_period)\n",
    "    mat[1, 1] = 1\n",
    "    mat[1, 3] = floor(N * p_z / curve.torus_real_period)\n",
    "    mat[2, 2] = 1\n",
    "    mat[2, 3] = N\n",
    "    x = N * eps / ks\n",
    "    y = N * eps\n",
    "    z = N * eps / ks\n",
    "    W = Matrix(QQ, 4, 4)\n",
    "    W[0, 0] = x\n",
    "    W[1, 1] = y\n",
    "    W[2, 2] = z\n",
    "    W[3, 3] = 1\n",
    "    L = (mat * W).LLL() / W\n",
    "    return int(abs(L[0, 0]))\n",
    "\n",
    "\n",
    "curve = Custom_Elliptic_Curve(-1, 0)\n",
    "\n",
    "with open('output.txt', 'r') as f:\n",
    "    data = json.load(f)\n",
    "    G = Custom_Point(Decimal(data['gx']), Decimal(data['gy']))\n",
    "    P = Custom_Point(Decimal(data['px']), Decimal(data['py']))\n",
    "    iv = bytes.fromhex(data['iv'])\n",
    "    ciphertext = bytes.fromhex(data['ciphertext'])\n",
    "\n",
    "    private_key = long_to_bytes(solve_dlp_ecc(curve, G, P))\n",
    "    cipher = AES.new(private_key, AES.MODE_CBC, iv)\n",
    "    plaintext = cipher.decrypt(ciphertext)\n",
    "    print(\"Flag: \", unpad(plaintext, 16))"
   ]
  },
  {
   "cell_type": "markdown",
   "metadata": {},
   "source": [
    "# SIGNATURES\n",
    "## Digestive\n",
    "\n",
    "¿Debería evitarse ECDSA para una mejor salud digestiva?\n",
    "\n",
    "Juega en https://web.cryptohack.org/digestive\n"
   ]
  },
  {
   "cell_type": "code",
   "execution_count": 3,
   "metadata": {},
   "outputs": [
    {
     "name": "stdout",
     "output_type": "stream",
     "text": [
      "{\"flag\":\"crypto{thanx_for_ctf_inspiration_https://mastodon.social/@filippo/109360453402691894}\"}\n",
      "\n"
     ]
    }
   ],
   "source": [
    "import requests\n",
    "import json \n",
    "\n",
    "url_sign = \"https://web.cryptohack.org/digestive/sign/\"\n",
    "url_verify = \"https://web.cryptohack.org/digestive/verify/\"\n",
    "\n",
    "# Any username value works\n",
    "username = \"admin\"\n",
    "r = requests.get(url_sign + username)\n",
    "\n",
    "# Forging a new message with the signature obtained\n",
    "response = json.loads(r.text)\n",
    "\n",
    "# Append admin = True to the dictionary, note that we can't use json.dumps here\n",
    "# as it will shrink into {\"admin\": true, \"username\": \"admin\"}, which will have\n",
    "# a different first 20 characters\n",
    "msg = '{\"admin\": false, \"username\": \"admin\", \"admin\": true}' \n",
    "signature = response['signature'] # previously requested signature\n",
    "\n",
    "r = requests.get(url_verify + msg + \"/\" + signature)\n",
    "print(r.text)"
   ]
  },
  {
   "cell_type": "markdown",
   "metadata": {},
   "source": [
    "## Curveball\n",
    "\n",
    "Aquí está mi motor de búsqueda seguro, que sólo buscará hosts que tenga en su caché de certificados confiable.\n",
    "\n",
    "Conéctese en socket.cryptohack.org 13382"
   ]
  },
  {
   "cell_type": "code",
   "execution_count": 11,
   "metadata": {},
   "outputs": [
    {
     "name": "stdout",
     "output_type": "stream",
     "text": [
      "b'Welcome to my secure search engine backed by trusted certificate library!\\n'\n",
      "b'\"Hey bing! Tell me about crypto{Curveballing_Microsoft_CVE-2020-0601}\"\\n'\n"
     ]
    }
   ],
   "source": [
    "from Crypto.Util.number import bytes_to_long, long_to_bytes\n",
    "import telnetlib\n",
    "import json\n",
    "import re\n",
    "from pkcs1 import emsa_pkcs1_v15\n",
    "from sage.all import *\n",
    "import fastecdsa\n",
    "from fastecdsa.point import Point\n",
    "\n",
    "HOST = \"socket.cryptohack.org\"\n",
    "PORT = int(13382)\n",
    "\n",
    "def readline():\n",
    "    return tn.read_until(b\"\\n\")\n",
    "\n",
    "def json_recv():\n",
    "    line = readline().decode()\n",
    "    st = line[line.find('{'):]\n",
    "    return json.loads(st)\n",
    "\n",
    "def json_send(hsh):\n",
    "    request = json.dumps(hsh).encode()\n",
    "    tn.write(request)\n",
    "\n",
    "tn = telnetlib.Telnet(HOST, PORT)\n",
    "print(readline())\n",
    "\n",
    "G = fastecdsa.curve.P256.G\n",
    "A = Point(0x3B827FF5E8EA151E6E51F8D0ABF08D90F571914A595891F9998A5BD49DFA3531, 0xAB61705C502CA0F7AA127DEC096B2BBDC9BD3B4281808B3740C320810888592A)\n",
    "B = int(1//Integers(fastecdsa.curve.P256.q)(3))*A\n",
    "to_send = json.loads(json.dumps({\"private_key\": int(3), \"host\": \"www.bing.com\", \"curve\": \"secp256r1\", \"generator\": [B.x, B.y]}))\n",
    "json_send(to_send)\n",
    "print(readline())"
   ]
  },
  {
   "cell_type": "markdown",
   "metadata": {},
   "source": [
    "## ProSign"
   ]
  },
  {
   "cell_type": "code",
   "execution_count": 3,
   "metadata": {},
   "outputs": [
    {
     "name": "stdout",
     "output_type": "stream",
     "text": [
      "Collecting ecdsa\n",
      "  Downloading ecdsa-0.18.0-py2.py3-none-any.whl (142 kB)\n",
      "\u001b[2K     \u001b[38;2;114;156;31m━━━━━━━━━━━━━━━━━━━━━━━━━━━━━━━━━━━━━━━\u001b[0m \u001b[32m142.9/142.9 kB\u001b[0m \u001b[31m1.0 MB/s\u001b[0m eta \u001b[36m0:00:00\u001b[0m MB/s\u001b[0m eta \u001b[36m0:00:01\u001b[0m:01\u001b[0m\n",
      "\u001b[?25hRequirement already satisfied: six>=1.9.0 in /private/var/tmp/sage-10.2-current/local/var/lib/sage/venv-python3.11.1/lib/python3.11/site-packages (from ecdsa) (1.16.0)\n",
      "Installing collected packages: ecdsa\n",
      "Successfully installed ecdsa-0.18.0\n",
      "Note: you may need to restart the kernel to use updated packages.\n"
     ]
    }
   ],
   "source": [
    "pip install ecdsa"
   ]
  },
  {
   "cell_type": "code",
   "execution_count": 7,
   "metadata": {},
   "outputs": [
    {
     "name": "stdout",
     "output_type": "stream",
     "text": [
      "[x] Opening connection to socket.cryptohack.org on port 13381\n",
      "[x] Opening connection to socket.cryptohack.org on port 13381: Trying 134.122.111.232\n",
      "[+] Opening connection to socket.cryptohack.org on port 13381: Done\n",
      "[x] Opening connection to socket.cryptohack.org on port 13381\n",
      "[x] Opening connection to socket.cryptohack.org on port 13381: Trying 134.122.111.232\n",
      "[+] Opening connection to socket.cryptohack.org on port 13381: Done\n",
      "Countdown: 41\n",
      "Countdown: 39\n",
      "Countdown: 38\n",
      "Countdown: 37\n",
      "Countdown: 36\n",
      "Countdown: 35\n",
      "Countdown: 33\n",
      "Countdown: 32\n",
      "Countdown: 31\n",
      "Countdown: 30\n",
      "Countdown: 28\n",
      "Countdown: 27\n",
      "Countdown: 26\n",
      "Countdown: 25\n",
      "Countdown: 24\n",
      "Countdown: 22\n",
      "Countdown: 21\n",
      "Countdown: 20\n",
      "Countdown: 19\n",
      "Countdown: 18\n",
      "Countdown: 16\n",
      "Countdown: 15\n",
      "Countdown: 14\n",
      "Countdown: 13\n",
      "Countdown: 11\n",
      "Countdown: 10\n",
      "Countdown: 9\n",
      "Countdown: 8\n",
      "Countdown: 7\n",
      "Countdown: 5\n",
      "Countdown: 4\n",
      "Countdown: 3\n",
      "Countdown: 2\n",
      "Countdown: 1\n",
      "[*] Closed connection to socket.cryptohack.org port 13381\n",
      "[x] Opening connection to socket.cryptohack.org on port 13381\n",
      "[x] Opening connection to socket.cryptohack.org on port 13381: Trying 134.122.111.232\n",
      "[+] Opening connection to socket.cryptohack.org on port 13381: Done\n",
      "[*] Closed connection to socket.cryptohack.org port 13381\n",
      "[x] Opening connection to socket.cryptohack.org on port 13381\n",
      "[x] Opening connection to socket.cryptohack.org on port 13381: Trying 134.122.111.232\n",
      "[+] Opening connection to socket.cryptohack.org on port 13381: Done\n",
      "Countdown: 58\n",
      "b'{\"flag\": \"crypto{ECDSA_700_345y_70_5cr3wup}\"}\\n'\n"
     ]
    }
   ],
   "source": [
    "from Crypto.Util.number import long_to_bytes, bytes_to_long, inverse\n",
    "from sage.all_cmdline import *\n",
    "from pwn import *\n",
    "import hashlib\n",
    "from ecdsa.ecdsa import Public_key, Private_key, Signature, generator_192\n",
    "import json\n",
    "\n",
    "global secret\n",
    "global pubkey\n",
    "global privkey\n",
    "\n",
    "def sha1(data):\n",
    "    sha1_hash = hashlib.sha1()\n",
    "    sha1_hash.update(data)\n",
    "    return sha1_hash.digest()\n",
    "\n",
    "def sign_unlock():\n",
    "    msg = \"unlock\"\n",
    "    hsh = sha1(msg.encode())\n",
    "    sig = privkey.sign(bytes_to_long(hsh), secret)\n",
    "    return {\"msg\": msg, \"r\": hex(sig.r), \"s\": hex(sig.s)}\n",
    "\n",
    "g = generator_192\n",
    "n = g.order()\n",
    "\n",
    "ip, port = \"socket.cryptohack.org\", int(13381)  # Use int() for the port\n",
    "conn = remote(ip, port)\n",
    "\n",
    "conn = remote(ip, port)\n",
    "conn.recv()\n",
    "\n",
    "while True:\n",
    "\ttry:\n",
    "\t\tconn.send(option_structure.format('sign_time').encode())\n",
    "\t\tresponse = eval(conn.recv().decode())\n",
    "\t\tm0 = response['msg']\n",
    "\t\tr0 = eval(response['r'])\n",
    "\t\ts0 = eval(response['s'])\n",
    "\t\thsh0 = bytes_to_long(sha1(m0.encode()))\n",
    "\t\tprint(f\"Countdown: {60-int(m0.split(':')[1])}\")\n",
    "\t\tif int(m0.split(':')[1]) == 2:\n",
    "\t\t\tbreak\n",
    "\texcept:\n",
    "\t\tconn.close()\n",
    "\t\tconn = remote(ip, port)\n",
    "\t\tconn.recv()\n",
    "\n",
    "conn.send(option_structure.format('sign_time').encode())\n",
    "response = eval(conn.recv().decode())\n",
    "\n",
    "k = 1\n",
    "x = (inverse(r0, n)*(s0*k - hsh0))%n\n",
    "\n",
    "\n",
    "secret = x\n",
    "pubkey = Public_key(g, g * secret)\n",
    "privkey = Private_key(pubkey, secret)\n",
    "\n",
    "to_be_send = sign_unlock()\n",
    "to_be_send.update({\"option\":\"verify\"})\n",
    "json_forged = json.dumps(to_be_send)\n",
    "\n",
    "conn.send(json_forged.encode())\n",
    "print(conn.recv())"
   ]
  },
  {
   "cell_type": "markdown",
   "metadata": {},
   "source": [
    "## No Random, No Bias"
   ]
  },
  {
   "cell_type": "code",
   "execution_count": 15,
   "metadata": {},
   "outputs": [
    {
     "name": "stdout",
     "output_type": "stream",
     "text": [
      "b'crypto{3mbrac3_r4nd0mn3ss}'\n"
     ]
    }
   ],
   "source": [
    "from hashlib import sha1\n",
    "from Crypto.Util.number import bytes_to_long, long_to_bytes\n",
    "from ecdsa.ecdsa import curve_256, generator_256\n",
    "from ecdsa import ellipticcurve\n",
    "from sage.all import *\n",
    "\n",
    "# curve-256 order\n",
    "n = int(generator_256.order())\n",
    "\n",
    "# Known signed messages\n",
    "msg1 = {'msg': 'I have hidden the secret flag as a point of an elliptic curve using my private key.', 'r': '0x91f66ac7557233b41b3044ab9daf0ad891a8ffcaf99820c3cd8a44fc709ed3ae', 's': '0x1dd0a378454692eb4ad68c86732404af3e73c6bf23a8ecc5449500fcab05208d'}\n",
    "msg2 = {'msg': 'The discrete logarithm problem is very hard to solve, so it will remain a secret forever.', 'r': '0xe8875e56b79956d446d24f06604b7705905edac466d5469f815547dea7a3171c', 's': '0x582ecf967e0e3acf5e3853dbe65a84ba59c3ec8a43951bcff08c64cb614023f8'}\n",
    "msg3 = {'msg': 'Good luck!', 'r': '0x566ce1db407edae4f32a20defc381f7efb63f712493c3106cf8e85f464351ca6', 's': '0x9e4304a36d2c83ef94e19a60fb98f659fa874bfb999712ceb58382e2ccda26ba'}\n",
    "\n",
    "known = [msg1, msg2, msg3]\n",
    "msgs = []\n",
    "sigs = []\n",
    "\n",
    "for msg in known: \n",
    "    msg_hsh = bytes_to_long(sha1(msg['msg'].encode()).digest())\n",
    "    msgs.append(msg_hsh)\n",
    "    msg_sigs = (int(msg['r'], 16), int(msg['s'], 16))\n",
    "    sigs.append(msg_sigs)\n",
    "\n",
    "# Make the matrix in the paper, also covered in the first example (with 2 messages) in the TrailOfBits article\n",
    "# was having trouble with setting up the matrix with the Github script\n",
    "def make_matrix():\n",
    "    (r1, s1), (r2, s2), (r3, s3) = sigs\n",
    "    m1, m2, m3 = msgs\n",
    "\n",
    "    t1 = r1 * inverse_mod(s1, n)\n",
    "    t2 = r2 * inverse_mod(s2, n)\n",
    "    t3 = r3 * inverse_mod(s3, n)\n",
    "\n",
    "    a1 = m1 * inverse_mod(s1, n)\n",
    "    a2 = m2 * inverse_mod(s2, n)\n",
    "    a3 = m3 * inverse_mod(s3, n)\n",
    "\n",
    "    basis = [ [n,           0,           0,            0,                  0],\n",
    "              [0,           n,           0,            0,                  0],\n",
    "              [0,           0,           n,            0,                  0],\n",
    "              [t1,          t2,          t3,           (2**160) / n,       0],\n",
    "              [a1,          a2,          a3,           0,             2**160]\n",
    "             ]\n",
    "    return Matrix(QQ, basis)\n",
    "\n",
    "# Size of the nonce is 160 bits\n",
    "B = 160\n",
    "matrix = make_matrix()\n",
    "\n",
    "# LLL to find the possible key\n",
    "new_matrix = matrix.LLL(early_red=True, use_siegel=True)\n",
    "\n",
    "# Retrieve the secret from the known nonce\n",
    "r1_inv = pow(sigs[0][0], -1, n)\n",
    "s1 = sigs[0][1]\n",
    "G = generator_256\n",
    "\n",
    "# Target is the public key\n",
    "target = (48780765048182146279105449292746800142985733726316629478905429239240156048277, 74172919609718191102228451394074168154654001177799772446328904575002795731796)\n",
    "\n",
    "d = 0\n",
    "for row in new_matrix:\n",
    "    potential_nonce_1 = row[0]\n",
    "    potential_priv_key = r1_inv * ((potential_nonce_1 * s1) - msgs[0])\n",
    "\n",
    "    possible = G * potential_priv_key\n",
    "    possible = (possible.x(), possible.y())\n",
    "\n",
    "    if possible == target:\n",
    "        d = potential_priv_key\n",
    "\n",
    "enc_flag = (16807196250009982482930925323199249441776811719221084165690521045921016398804, 72892323560996016030675756815328265928288098939353836408589138718802282948311)\n",
    "enc_flag = ellipticcurve.Point(curve_256, enc_flag[0], enc_flag[1])\n",
    "\n",
    "# Obtain the flag trivially\n",
    "flag = enc_flag * inverse_mod(d, n)\n",
    "print(long_to_bytes(int(flag.x())))"
   ]
  },
  {
   "cell_type": "markdown",
   "metadata": {},
   "source": [
    "## Edwards Goes Degenerate"
   ]
  },
  {
   "cell_type": "code",
   "execution_count": 16,
   "metadata": {},
   "outputs": [
    {
     "name": "stdout",
     "output_type": "stream",
     "text": [
      "Alice Private Key:  22177185339821817642584340290303072361216253354374422848549320419774574392697\n",
      "Bob Private Key:  22332698486745953182164241145205081465705445104277610627119977388903074315065\n",
      "Shared Secret:  46772665978493537897908538371128954540513401182358149976776838971792020458357\n",
      "Flag:  b'crypto{degenerates_will_never_keep_a_secret}'\n"
     ]
    }
   ],
   "source": [
    "from sage.all import *\n",
    "from Crypto.Cipher import AES\n",
    "from Crypto.Util.Padding import unpad\n",
    "from hashlib import sha1\n",
    "from Crypto.Util.number import inverse\n",
    "\n",
    "class TwistedEdwards():\n",
    "    # Elliptic curve in Edwards form:\n",
    "    # -x**2 + y**2 = 1 + d*x**2*y**2\n",
    "    # birationally equivalent to the Montgomery curve:\n",
    "    # y**2 = x**3 + 2*(1-d)/(1+d)*x**2 + x\n",
    "\n",
    "    def __init__(self, p, d, order, x0bit, y0):\n",
    "        self.p = p\n",
    "        self.d = d\n",
    "        self.order = order\n",
    "        self.base_point = (x0bit, y0)\n",
    "\n",
    "    def recover_x(self, xbit, y):\n",
    "        xsqr = (y**2 - 1)*inverse(1 + self.d*y**2, self.p) % self.p\n",
    "        x = pow(xsqr, (self.p + 1)//4, self.p)\n",
    "        if x**2 == xsqr :\n",
    "            if x & 1 != xbit:\n",
    "                return p - x\n",
    "            return x\n",
    "        return 0\n",
    "\n",
    "    def decompress(self, compressed_point):\n",
    "        xbit, y = compressed_point\n",
    "        x = self.recover_x(xbit, y)\n",
    "        return (x, y)\n",
    "\n",
    "    # complete point addition formulas\n",
    "    def add(self, P1, P2):\n",
    "        x1, y1 = P1\n",
    "        x2, y2 = P2\n",
    "        \n",
    "        C = x1*x2 % self.p\n",
    "        D = y1*y2 % self.p\n",
    "        E = self.d*C*D\n",
    "        x3 = (1 - E)*((x1 + y1)*(x2 + y2) - C - D) % self.p\n",
    "        y3 = (1 + E)*(D + C) % self.p\n",
    "        z3 = 1 - E**2 % self.p\n",
    "        z3inv = inverse(z3, self.p)\n",
    "        return (x3*z3inv % self.p, y3*z3inv % self.p)\n",
    "\n",
    "    # left-to-right double-and-add\n",
    "    def single_mul(self, n, compressed_point):\n",
    "        P = self.decompress(compressed_point)        \n",
    "        t = n.bit_length()\n",
    "        if n == 0:\n",
    "            return (0,1)\n",
    "        R = P\n",
    "        for i in range(t-2,-1,-1):\n",
    "            bit = (n >> i) & 1\n",
    "            R = self.add(R, R)\n",
    "            if bit == 1:\n",
    "                R = self.add(R, P)\n",
    "        return (R[0] & 1, R[1])\n",
    "\n",
    "def gen_shared_secret(curve, n, P):\n",
    "    xbit, y = curve.single_mul(n, P)\n",
    "    return y\n",
    "\n",
    "p = 110791754886372871786646216601736686131457908663834453133932404548926481065303\n",
    "order = 27697938721593217946661554150434171532902064063497989437820057596877054011573\n",
    "d = 14053231445764110580607042223819107680391416143200240368020924470807783733946\n",
    "x0bit = 1\n",
    "y0 = 11\n",
    "curve = TwistedEdwards(p, d, order, x0bit, y0)\n",
    "\n",
    "def decrypt_flag(shared_secret: int, iv: bytes, encrypted_flag: bytes):\n",
    "    key = sha1(str(shared_secret).encode('ascii')).digest()[:16]\n",
    "    cipher = AES.new(key, AES.MODE_CBC, iv)\n",
    "    plaintext = cipher.decrypt(encrypted_flag)\n",
    "    return unpad(plaintext, 16)\n",
    "\n",
    "iv = bytearray.fromhex('31068e75b880bece9686243fa4dc67d0')\n",
    "encrypted_flag = bytearray.fromhex('e2ef82f2cde7d44e9f9810b34acc885891dad8118c1d9a07801639be0629b186dc8a192529703b2c947c20c4fe5ff2c8')\n",
    "\n",
    "p = 110791754886372871786646216601736686131457908663834453133932404548926481065303\n",
    "F = GF(p)\n",
    "order = F(27697938721593217946661554150434171532902064063497989437820057596877054011573)\n",
    "g = F(11)\n",
    "n_x = F(109790246752332785586117900442206937983841168568097606235725839233151034058387)\n",
    "n_y = F(45290526009220141417047094490842138744068991614521518736097631206718264930032)\n",
    "x = discrete_log(n_x, g)\n",
    "y = discrete_log(n_y, g)\n",
    "print(\"Alice Private Key: \", x)\n",
    "print(\"Bob Private Key: \", y)\n",
    "\n",
    "shared_secret = gen_shared_secret(curve, int(x), [0, int(n_y)])\n",
    "print(\"Shared Secret: \", shared_secret)\n",
    "flag = decrypt_flag(shared_secret, iv, encrypted_flag)\n",
    "print(\"Flag: \", flag)"
   ]
  },
  {
   "cell_type": "markdown",
   "metadata": {},
   "source": [
    "# SIDE CHANNELS"
   ]
  },
  {
   "cell_type": "markdown",
   "metadata": {},
   "source": [
    "## Montgomery's Ladder"
   ]
  },
  {
   "cell_type": "code",
   "execution_count": null,
   "metadata": {},
   "outputs": [],
   "source": []
  },
  {
   "cell_type": "markdown",
   "metadata": {},
   "source": [
    "## Double and BRoken\n"
   ]
  },
  {
   "cell_type": "code",
   "execution_count": 18,
   "metadata": {},
   "outputs": [
    {
     "name": "stdout",
     "output_type": "stream",
     "text": [
      "b'crypto{Sid3_ch4nn3ls_c4n_br34k_s3cur3_curv3s}'\n"
     ]
    },
    {
     "data": {
      "image/png": "[encoded data removed]",
      "text/plain": [
       "<Figure size 640x480 with 1 Axes>"
      ]
     },
     "metadata": {},
     "output_type": "display_data"
    }
   ],
   "source": [
    "from Crypto.Util.number import long_to_bytes\n",
    "import json \n",
    "import numpy as np\n",
    "import matplotlib.pyplot as plt\n",
    "\n",
    "f = open('collected_data.txt', 'r')\n",
    "readings = np.array(json.loads(f.readline()))\n",
    "\n",
    "# Means across 50 observations\n",
    "readings = np.mean(readings, axis=0)\n",
    "index = list(range(len(readings)))\n",
    "\n",
    "# Generate the graph\n",
    "plt.bar(index, readings)\n",
    "plt.xlabel(\"Flag bit\")\n",
    "plt.ylabel(\"Power reading\")\n",
    "plt.savefig('readings.png')\n",
    "\n",
    "# Retrieve the output from the readings\n",
    "output = \"\"\n",
    "for reading in readings:\n",
    "    if reading < 120:\n",
    "        output += \"0\"\n",
    "    else:\n",
    "        output += \"1\"\n",
    "\n",
    "# Has to reverse the output string\n",
    "# 2 ways to implement double-and-add, either LSB to MSB, or MSB to LSB\n",
    "flag = int(output[::-1], 2)\n",
    "print(long_to_bytes(flag))"
   ]
  }
 ],
 "metadata": {
  "colab": {
   "provenance": []
  },
  "kernelspec": {
   "display_name": "SageMath 10.2",
   "language": "sage",
   "name": "sagemath-10.2"
  },
  "language_info": {
   "codemirror_mode": {
    "name": "ipython",
    "version": 3
   },
   "file_extension": ".py",
   "mimetype": "text/x-python",
   "name": "python",
   "nbconvert_exporter": "python",
   "pygments_lexer": "ipython3",
   "version": "3.11.1"
  }
 },
 "nbformat": 4,
 "nbformat_minor": 4
}
