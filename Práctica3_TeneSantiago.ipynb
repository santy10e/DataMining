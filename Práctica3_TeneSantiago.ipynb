{
 "cells": [
  {
   "cell_type": "markdown",
   "id": "96a71a9d",
   "metadata": {},
   "source": [
    "Estudiante: Santiago Tene Castillo\n",
    "Práctica de laboratorio: análisis de datos del contador de Internet¶\n",
    "Objetivos\n",
    "\n",
    "**Parte 1: Recopile y guarde los datos**\n",
    "\n",
    "**Parte 2: Manipule los datos**\n",
    "\n",
    "Aspectos básicos/situación\n",
    "\n",
    "En esta práctica de laboratorio, usted adquirirá estadísticas de la velocidad de Internet y almacenará los datos en vivo en un archivo de valores separados por comas (csv). También cargará los datos almacenados del archivo csv a una estructura de datos de Python, los pandas marco de datos, y utilizará sus funcionalidades para explorar los datos y manipularlos de manera que sean fácilmente legibles.\n",
    "Recursos necesarios\n",
    "\n",
    "    1 computadora con acceso a Internet\n",
    "    Raspberry Pi versión 2 o superior\n",
    "    Bibliotecas de Python: datetime, csv, subprocess, pandas, numpy\n",
    "    Archivos de datos: rpi_data_long.csv\n",
    "\n",
    "Parte 1: Recopile y guarde los datos\n",
    "\n",
    "El objetivo de esta primera parte de la práctica de laboratorio es reunir mediciones de la velocidad de Internet a través de Raspberry Pi. Se recogerán tres tipos de mediciones:\n",
    "\n",
    "    Velocidad de ping\n",
    "    Velocidad de descarga\n",
    "    Velocidad de carga\n",
    "\n",
    "Paso 1: Instale Speedtest e importe las bibliotecas de Python.\n",
    "\n",
    "En este paso, instalará Speedtest e importará las bibliotecas de Python.\n",
    "\n",
    "Speedtest-cli es un script de Python que mide la velocidad de carga y de descarga de la conexión a Internet. Para obtener más información sobre speedtest, vaya a https://github.com/sivel/speedtest-cli.\n",
    "\n",
    "a) Instale speedtest-cli.\n"
   ]
  },
  {
   "cell_type": "code",
   "execution_count": 1,
   "id": "743bd462",
   "metadata": {},
   "outputs": [
    {
     "name": "stdout",
     "output_type": "stream",
     "text": [
      "Collecting speedtest-cli\n",
      "  Downloading speedtest_cli-2.1.3-py2.py3-none-any.whl (23 kB)\n",
      "Installing collected packages: speedtest-cli\n",
      "Successfully installed speedtest-cli-2.1.3\n"
     ]
    }
   ],
   "source": [
    "# Code cell 1\n",
    "!pip install speedtest-cli"
   ]
  },
  {
   "cell_type": "markdown",
   "id": "ca3fef4e",
   "metadata": {},
   "source": [
    "Este cli permite que la notebook de Jupyter se conecte a la página web y guarde los datos.\n",
    "\n",
    "b) Importe las bibliotecas de Python necesarias.\n"
   ]
  },
  {
   "cell_type": "code",
   "execution_count": 2,
   "id": "cd2f0eec",
   "metadata": {},
   "outputs": [],
   "source": [
    "# Code cell 2\n",
    "# Python library to manage date and time data\n",
    "import datetime\n",
    "# Python library to read and write csv files\n",
    "import csv\n",
    "# Python library to execute bash commands from the notebook.\n",
    "# If you want to know more about this, check this resource: \n",
    "# http://www.pythonforbeginners.com/os/subprocess-for-system-administrators\n",
    "import subprocess"
   ]
  },
  {
   "cell_type": "markdown",
   "id": "c7760533",
   "metadata": {},
   "source": [
    "Paso 2: Genere las marcas de hora mediante el paquete datetime.\n",
    "\n",
    "En esta práctica de laboratorio, se generarán mediciones de las estadísticas de la velocidad de Internet. Un paso crucial en la adquisición de datos para la mayoría de las aplicaciones de análisis de datos es asociar una marca de hora a las mediciones.\n",
    "\n",
    "a) Para generar una marca de hora, utilice la función datetime.now del paquete datetime:\n"
   ]
  },
  {
   "cell_type": "code",
   "execution_count": 3,
   "id": "39876619",
   "metadata": {},
   "outputs": [
    {
     "name": "stdout",
     "output_type": "stream",
     "text": [
      "2023-11-03 11:13:04.851369 <class 'datetime.datetime'>\n"
     ]
    }
   ],
   "source": [
    "# Code cell 3\n",
    "date_time = datetime.datetime.now()\n",
    "print(date_time, type(date_time))"
   ]
  },
  {
   "cell_type": "markdown",
   "id": "5a993a0e",
   "metadata": {},
   "source": [
    "b) Una instancia de la clase datetime no se puede escribir directamente en forma de texto. La función strftime analiza la información de fecha en una cadena. Los argumentos de esta función determinan el formato del sting de salida. Una descripción de estos parámetros se encuentra en la documentación de la función strftime en https://docs.python.org/2/library/time.html.\n"
   ]
  },
  {
   "cell_type": "code",
   "execution_count": 4,
   "id": "cfad793c",
   "metadata": {},
   "outputs": [
    {
     "data": {
      "text/plain": [
       "'Fri, 03 Nov 2023 11:13:04'"
      ]
     },
     "execution_count": 4,
     "metadata": {},
     "output_type": "execute_result"
    }
   ],
   "source": [
    "\n",
    "\n",
    "# Code cell 4\n",
    "date_time.strftime('%a, %d %b %Y %H:%M:%S')\n",
    "\n"
   ]
  },
  {
   "cell_type": "markdown",
   "id": "0e502b8a",
   "metadata": {},
   "source": [
    "Después de leer la documentación de la función strftime, genere una marca de hora y analícela en una cadena con el siguiente formato: AAAA-MM-DD HH:MM:SS.\n"
   ]
  },
  {
   "cell_type": "code",
   "execution_count": 5,
   "id": "2ab65ebc",
   "metadata": {},
   "outputs": [
    {
     "data": {
      "text/plain": [
       "'2023-Nov-03 11:13:04'"
      ]
     },
     "execution_count": 5,
     "metadata": {},
     "output_type": "execute_result"
    }
   ],
   "source": [
    "date_time.strftime('%Y-%b-%d %H:%M:%S')"
   ]
  },
  {
   "cell_type": "markdown",
   "id": "9ebd5ac3",
   "metadata": {},
   "source": [
    "Paso 3: Ejecute el proceso y recopile la salida con Python.\n",
    "\n",
    "El comando speedtest-cli, si se ejecuta desde un terminal, devuelve una cadena con las velocidades de carga y descarga. Para ejecutar el comando de la computadora portátil, es necesario utilizar el subproceso del módulo de Python, que permite la ejecución de un proceso directamente de las celdas de código de la computadora portátil.\n",
    "\n",
    "a) Ejecute una prueba de velocidad mediante el comando speedtest-cli de Python. La salida se almacenará en la variable process_output.\n"
   ]
  },
  {
   "cell_type": "code",
   "execution_count": 7,
   "id": "7382f6f1",
   "metadata": {},
   "outputs": [],
   "source": [
    "# Code cell 6\n",
    "# This string contains the command line to interface with speedtest.net\n",
    "speedtest_cmd = \"speedtest-cli --simple\"\n",
    "# Execute the process\n",
    "process = subprocess.Popen(speedtest_cmd.split(), stdout=subprocess.PIPE)\n",
    "# Collect the command output\n",
    "process_output = process.communicate()[0]"
   ]
  },
  {
   "cell_type": "markdown",
   "id": "e361d554",
   "metadata": {},
   "source": [
    "b) Imprima la salida del proceso. Observe el tipo para la variable process_output."
   ]
  },
  {
   "cell_type": "code",
   "execution_count": 8,
   "id": "a7d8a447",
   "metadata": {},
   "outputs": [
    {
     "name": "stdout",
     "output_type": "stream",
     "text": [
      "b'Ping: 21.507 ms\\nDownload: 113.29 Mbit/s\\nUpload: 15.80 Mbit/s\\n' <class 'bytes'>\n"
     ]
    }
   ],
   "source": [
    "# Code cell 7\n",
    "print(process_output, type(process_output))"
   ]
  },
  {
   "cell_type": "markdown",
   "id": "017d38d3",
   "metadata": {},
   "source": [
    "c) El resultado de la prueba de velocidad se divide, y una marca de hora se adjunta a los resultados."
   ]
  },
  {
   "cell_type": "code",
   "execution_count": 9,
   "id": "36e8129a",
   "metadata": {},
   "outputs": [
    {
     "name": "stdout",
     "output_type": "stream",
     "text": [
      "[b'Ping:', b'21.507', b'ms', b'Download:', b'113.29', b'Mbit/s', b'Upload:', b'15.80', b'Mbit/s', '2023-11-03 11:20:35'] <class 'list'>\n"
     ]
    }
   ],
   "source": [
    "# Code cell 8\n",
    "# Store the time at which the speedtest was executed\n",
    "date_time = datetime.datetime.now().strftime(\"%Y-%m-%d %H:%M:%S\")\n",
    "process_output = process_output.split()\n",
    "process_output.append(date_time)\n",
    "print(process_output, type(process_output))"
   ]
  },
  {
   "cell_type": "markdown",
   "id": "b633cbe7",
   "metadata": {},
   "source": [
    "d) La función speedtest() se crea para devolver los resultados del comando speedtest-cli."
   ]
  },
  {
   "cell_type": "code",
   "execution_count": 38,
   "id": "e527952b",
   "metadata": {},
   "outputs": [],
   "source": [
    "# Code cell 9\n",
    "# function to excute the speed test\n",
    "def speedtest():\n",
    "    # We need to store the time at which the speedtest was executed\n",
    "    date_time = datetime.datetime.now().strftime(\"%Y-%m-%d %H:%M:%S\")\n",
    "    # This is a string that contains what we would write on the command line \n",
    "    #to interface with speedtest.net\n",
    "    speedtest_cmd = \"speedtest-cli --simple\"\n",
    "    # We now execute the process: \n",
    "    process = subprocess.Popen(speedtest_cmd.split(), stdout=subprocess.PIPE)\n",
    "    process_output = process.communicate()[0]\n",
    "    process_output = process_output.split()\n",
    "    # and we add the date and time \n",
    "    process_output.append(date_time)\n",
    "    return process_output"
   ]
  },
  {
   "cell_type": "markdown",
   "id": "edf80599",
   "metadata": {},
   "source": [
    "¿Qué devuelve la función speedtest()? ¿Cuál es el código para ver resultados de la función speedtest()?\n",
    "\n",
    "Escriba la respuesta aquí"
   ]
  },
  {
   "cell_type": "code",
   "execution_count": 39,
   "id": "17055858",
   "metadata": {},
   "outputs": [
    {
     "name": "stdout",
     "output_type": "stream",
     "text": [
      "[b'Ping:', b'21.507', b'ms', b'Download:', b'113.29', b'Mbit/s', b'Upload:', b'15.80', b'Mbit/s', '2023-11-03 11:20:35']\n"
     ]
    }
   ],
   "source": [
    "print(process_output)"
   ]
  },
  {
   "cell_type": "code",
   "execution_count": 40,
   "id": "16ddce45",
   "metadata": {},
   "outputs": [
    {
     "name": "stdout",
     "output_type": "stream",
     "text": [
      "[b'Ping:', b'53.043', b'ms', b'Download:', b'98.08', b'Mbit/s', b'Upload:', b'15.39', b'Mbit/s', '2023-11-03 12:06:11']\n"
     ]
    }
   ],
   "source": [
    "print(speedtest())"
   ]
  },
  {
   "cell_type": "markdown",
   "id": "bfe2ff6d",
   "metadata": {},
   "source": [
    "Paso 4: Guarde la salida de la función speedtest().\n",
    "\n",
    "Los valores separados por comas (csv) son el formato de importación y exportación más común para las hojas de cálculo y las bases de datos. Para obtener más información sobre el trabajo con los csv en Python, navegue a https://docs.python.org/2/library/csv.html.\n",
    "\n",
    "a) Cree un archivo denominado test.txt en el directorio /tmp y escriba \"test_msg\" en el archivo.\n"
   ]
  },
  {
   "cell_type": "code",
   "execution_count": 15,
   "id": "cabe8f5f",
   "metadata": {},
   "outputs": [],
   "source": [
    "# Code cell 11\n",
    "with open(\"test.txt\",'w') as f:\n",
    "    f.write('test_msg')\n"
   ]
  },
  {
   "cell_type": "markdown",
   "id": "2783b960",
   "metadata": {},
   "source": [
    "b) Use el comando de Linux cat para verificar la creación y el contenido del archivo."
   ]
  },
  {
   "cell_type": "code",
   "execution_count": 16,
   "id": "8737dac3",
   "metadata": {},
   "outputs": [
    {
     "name": "stdout",
     "output_type": "stream",
     "text": [
      "test_msg"
     ]
    }
   ],
   "source": [
    "!cat test.txt"
   ]
  },
  {
   "cell_type": "markdown",
   "id": "7b66a300",
   "metadata": {},
   "source": [
    "c) Para verificar que el archivo se haya abierto correctamente:"
   ]
  },
  {
   "cell_type": "code",
   "execution_count": 17,
   "id": "d36b6640",
   "metadata": {},
   "outputs": [
    {
     "name": "stdout",
     "output_type": "stream",
     "text": [
      "test_msg\n"
     ]
    }
   ],
   "source": [
    "# Code cell 13\n",
    "with open(\"test.txt\",'r') as f:\n",
    "    str = f.read()\n",
    "print(str)"
   ]
  },
  {
   "cell_type": "markdown",
   "id": "8a2dcc84",
   "metadata": {},
   "source": [
    "\n",
    "d) La comprensión del significado de la declaración with, especialmente en combinación con try y except no es necesaria para el resto de esta práctica de laboratorio, pero un recurso útil sobre esto es http://effbot.org/zone/python-with-statement.htm.\n",
    "\n",
    "Para escribir en el archivo CSV, es necesario crear un objeto csv.writer. Marque https://docs.python.org/2/library/csv.html y descubra qué función del objeto “csv.writer” se puede utilizar para agregar una fila al archivo csv.\n"
   ]
  },
  {
   "cell_type": "code",
   "execution_count": 46,
   "id": "08f54ed7",
   "metadata": {},
   "outputs": [],
   "source": [
    "# Code cell 14\n",
    "# Function to save data to csv\n",
    "def save_to_csv(data, filename):\n",
    "    try:\n",
    "        # If the file exists, append a new line to it, with the \n",
    "        #results of the current experiment\n",
    "        with open(filename + '.csv', 'a') as f:\n",
    "            # Create a csv writer object \n",
    "            wr = csv.writer(f)\n",
    "            # Save (write) to file\n",
    "            wr.writerow(data)\n",
    "    except:\n",
    "        # If it does not exist, create the file first\n",
    "        with open(filename + '.csv', 'w') as f:\n",
    "            # Hint: This is similar to appending new lines to a file.\n",
    "            # Create a csv writer object\n",
    "            # ADD CODE HERE\n",
    "            wr = csv.writer(f)\n",
    "            # Save (write) to file\n",
    "            # ADD CODE HERE\n",
    "            wr.writerow(data)"
   ]
  },
  {
   "cell_type": "markdown",
   "id": "9d3ea7b1",
   "metadata": {},
   "source": [
    "Paso 5: Verifique los datos recolectados.\n",
    "\n",
    "Escriba una función para abrir un archivo csv e imprima su contenido en la pantalla. Puede encontrar un ejemplo en la sección 13.1.5 de https://docs.python.org/2/library/csv.html"
   ]
  },
  {
   "cell_type": "code",
   "execution_count": 51,
   "id": "d494c81e",
   "metadata": {},
   "outputs": [],
   "source": [
    "# Code cell 15\n",
    "def print_from_csv(filename): \n",
    "    with open(filename + '.csv', 'r') as f:\n",
    "        re = csv.reader(f)\n",
    "        # 1. Loop over the rows\n",
    "        for row in re:\n",
    "            # 2. print\n",
    "               print(\" \".join(row))"
   ]
  },
  {
   "cell_type": "markdown",
   "id": "18df8753",
   "metadata": {},
   "source": [
    "En este momento, todas las funciones necesarias para recopilar y almacenar los datos de la velocidad de Internet han finalizado.\n",
    "Paso 6: Ejecute varias veces Speedtest y guarde los datos.\n",
    "\n",
    "a) Escriba un bucle for que ejecute speedtest 5 veces, imprima la salida de las pruebas y guarde los datos en un archivo csv.\n"
   ]
  },
  {
   "cell_type": "code",
   "execution_count": 52,
   "id": "11158163",
   "metadata": {},
   "outputs": [
    {
     "name": "stdout",
     "output_type": "stream",
     "text": [
      "Test number 0\n",
      "Test number 1\n",
      "Test number 2\n",
      "Test number 3\n",
      "Test number 4\n"
     ]
    }
   ],
   "source": [
    "# Code cell 16\n",
    "for i in range(5):\n",
    "    # Measure internet speed (speedtest_output) using the speedtest() created earlier\n",
    "    speedtest_output = speedtest()\n",
    "    # Print the test number\n",
    "    print('Test number {}'.format(i))\n",
    "    # Print the result (The needed variable is speedtest_output)\n",
    "    # ADD CODE HERE for printing the results\n",
    "    save_to_csv(speedtest_output, 'rpi_data_test')\n"
   ]
  },
  {
   "cell_type": "markdown",
   "id": "e0c82afc",
   "metadata": {},
   "source": [
    "b) Muestre el archivo para verificar que los datos se hayan guardado correctamente."
   ]
  },
  {
   "cell_type": "code",
   "execution_count": 53,
   "id": "b6893dee",
   "metadata": {},
   "outputs": [
    {
     "name": "stdout",
     "output_type": "stream",
     "text": [
      "2023-11-03 12:00:06\n",
      "b'Ping:' b'97.265' b'ms' b'Download:' b'120.68' b'Mbit/s' b'Upload:' b'13.99' b'Mbit/s' 2023-11-03 12:00:11\n",
      "b'Ping:' b'21.274' b'ms' b'Download:' b'116.22' b'Mbit/s' b'Upload:' b'15.21' b'Mbit/s' 2023-11-03 12:00:44\n",
      "b'Ping:' b'20.614' b'ms' b'Download:' b'123.47' b'Mbit/s' b'Upload:' b'15.17' b'Mbit/s' 2023-11-03 12:01:06\n",
      "b'Ping:' b'19.461' b'ms' b'Download:' b'121.35' b'Mbit/s' b'Upload:' b'15.46' b'Mbit/s' 2023-11-03 12:01:28\n",
      "b'Ping:' b'118.329' b'ms' b'Download:' b'98.78' b'Mbit/s' b'Upload:' b'16.08' b'Mbit/s' 2023-11-03 12:03:30\n",
      "b'Ping:' b'16.798' b'ms' b'Download:' b'125.17' b'Mbit/s' b'Upload:' b'15.61' b'Mbit/s' 2023-11-03 12:03:55\n",
      "b'Ping:' b'32.375' b'ms' b'Download:' b'120.43' b'Mbit/s' b'Upload:' b'16.26' b'Mbit/s' 2023-11-03 12:04:17\n",
      "b'Ping:' b'18.032' b'ms' b'Download:' b'109.17' b'Mbit/s' b'Upload:' b'15.29' b'Mbit/s' 2023-11-03 12:04:39\n",
      "b'Ping:' b'23.263' b'ms' b'Download:' b'118.99' b'Mbit/s' b'Upload:' b'15.17' b'Mbit/s' 2023-11-03 12:05:00\n",
      "b'Ping:' b'38.891' b'ms' b'Download:' b'117.84' b'Mbit/s' b'Upload:' b'15.44' b'Mbit/s' 2023-11-03 12:09:20\n",
      "b'Ping:' b'22.225' b'ms' b'Download:' b'117.42' b'Mbit/s' b'Upload:' b'15.08' b'Mbit/s' 2023-11-03 12:09:44\n",
      "b'Ping:' b'28.558' b'ms' b'Download:' b'105.41' b'Mbit/s' b'Upload:' b'15.38' b'Mbit/s' 2023-11-03 12:10:06\n",
      "b'Ping:' b'21.472' b'ms' b'Download:' b'111.04' b'Mbit/s' b'Upload:' b'15.55' b'Mbit/s' 2023-11-03 12:10:29\n",
      "b'Ping:' b'19.011' b'ms' b'Download:' b'118.12' b'Mbit/s' b'Upload:' b'15.55' b'Mbit/s' 2023-11-03 12:10:50\n",
      "b'Ping:' b'119.444' b'ms' b'Download:' b'106.95' b'Mbit/s' b'Upload:' b'13.72' b'Mbit/s' 2023-11-03 12:11:17\n",
      "b'Ping:' b'14.615' b'ms' b'Download:' b'116.66' b'Mbit/s' b'Upload:' b'16.08' b'Mbit/s' 2023-11-03 12:11:42\n",
      "b'Ping:' b'13.723' b'ms' b'Download:' b'109.15' b'Mbit/s' b'Upload:' b'16.02' b'Mbit/s' 2023-11-03 12:12:04\n",
      "b'Ping:' b'24.648' b'ms' b'Download:' b'112.37' b'Mbit/s' b'Upload:' b'15.86' b'Mbit/s' 2023-11-03 12:12:48\n",
      "b'Ping:' b'13.286' b'ms' b'Download:' b'112.80' b'Mbit/s' b'Upload:' b'15.80' b'Mbit/s' 2023-11-03 12:13:10\n",
      "b'Ping:' b'19.697' b'ms' b'Download:' b'114.83' b'Mbit/s' b'Upload:' b'16.43' b'Mbit/s' 2023-11-03 12:13:31\n",
      "b'Ping:' b'17.517' b'ms' b'Download:' b'113.30' b'Mbit/s' b'Upload:' b'15.47' b'Mbit/s' 2023-11-03 12:13:53\n",
      "b'Ping:' b'23.702' b'ms' b'Download:' b'120.18' b'Mbit/s' b'Upload:' b'15.98' b'Mbit/s' 2023-11-03 12:14:15\n"
     ]
    }
   ],
   "source": [
    "# Code cell 17\n",
    "print_from_csv('rpi_data_test')"
   ]
  },
  {
   "cell_type": "markdown",
   "id": "20ff66cf",
   "metadata": {},
   "source": [
    "Si un conjunto de datos más grande es necesario, speedtest puede ejecutarse en segundo plano para más muestras.\n",
    "\n",
    "¿Cómo cambiaría el código si quisiera ejecutar el código 100 veces?\n"
   ]
  },
  {
   "cell_type": "code",
   "execution_count": 55,
   "id": "2df6a867",
   "metadata": {},
   "outputs": [
    {
     "name": "stdout",
     "output_type": "stream",
     "text": [
      "Test number 0\n"
     ]
    }
   ],
   "source": [
    "# Code cell 16\n",
    "for i in range(100):\n",
    "    # Measure internet speed (speedtest_output) using the speedtest() created earlier\n",
    "    speedtest_output = speedtest()\n",
    "    # Print the test number\n",
    "    print('Test number {}'.format(i))\n",
    "    # Print the result (The needed variable is speedtest_output)\n",
    "    # ADD CODE HERE for printing the results\n",
    "    save_to_csv(speedtest_output, 'rpi_data_test')"
   ]
  },
  {
   "cell_type": "markdown",
   "id": "703b454f",
   "metadata": {},
   "source": [
    "Parte 2: Manipule los datos\n",
    "\n",
    "Los pandas de la biblioteca de Python son muy útiles para trabajar con datos estructurados. La documentación completa se encuentra aquí: http://pandas.pydata.org/pandas-docs/version/0.14.1/</font>\n",
    "\n",
    "Se utilizará un conjunto de datos más grande recopilado de antemano para esta parte de la práctica de laboratorio. El nombre de archivo es rpi_data_long.csv.\n",
    "Paso 1: Importe las bibliotecas de Python.\n",
    "\n",
    "Importe los pandas y otras bibliotecas utilizadas para las siguientes tareas.\n"
   ]
  },
  {
   "cell_type": "code",
   "execution_count": 56,
   "id": "7cb1a205",
   "metadata": {},
   "outputs": [],
   "source": [
    "# Code cell 19\n",
    "import datetime\n",
    "import csv\n",
    "import pandas as pd\n",
    "# NumPy is a library that adds support for large, multi-dimensional arrays and matrices\n",
    "# along with high-level mathematical functions to operate on these arrays\n",
    "import numpy as np"
   ]
  },
  {
   "cell_type": "markdown",
   "id": "559c161d",
   "metadata": {},
   "source": [
    "Paso 2: Cargue el archivo csv en un objeto del marco de datos mediante pandas.\n",
    "\n",
    "Un marco de datos de pandas es una estructura de datos etiquetada de 2 dimensiones con columnas potencialmente de diferentes tipos. Puede verlo como una hoja de cálculo o una tabla de SQL. La función de la biblioteca de pandas read_csv convierte automáticamente un archivo csv en un objeto del marco de datos.\n",
    "\n",
    "Lea la documentación de read_csv en http://pandas.pydata.org/pandas-docs/version/0.14.1/generated/pandas.read_csv.html. Esta función contiene muchos parámetros. El único no opcional es filepath, es decir, la ubicación del archivo csv. Todos los demás parámetros son opcionales.\n",
    "\n",
    "En este paso, importará y verá el contenido del archivo csv, rpi_data_long.csv. Esto archivo csv se encuentra en el mismo directorio que esta notebook de Jupyter.\n",
    "\n",
    "a) Asigne el archivo rpi_data_long.csv a la variable data_file.\n"
   ]
  },
  {
   "cell_type": "code",
   "execution_count": 57,
   "id": "bfa3bbcd",
   "metadata": {},
   "outputs": [],
   "source": [
    "# Code cell 20\n",
    "data_file = 'rpi_data_long.csv'"
   ]
  },
  {
   "cell_type": "code",
   "execution_count": 58,
   "id": "eb3271c6",
   "metadata": {},
   "outputs": [
    {
     "name": "stdout",
     "output_type": "stream",
     "text": [
      "Ping:,26.992,ms,Download:,91.80,Mbit/s,Upload:,14.31,Mbit/s,2016-11-24 13:36:25\r",
      "\r\n",
      "Ping:,24.532,ms,Download:,88.19,Mbit/s,Upload:,14.12,Mbit/s,2016-11-24 13:36:55\r",
      "\r\n",
      "Ping:,20.225,ms,Download:,59.86,Mbit/s,Upload:,14.11,Mbit/s,2016-11-24 13:37:25\r",
      "\r\n",
      "Ping:,19.332,ms,Download:,91.81,Mbit/s,Upload:,14.22,Mbit/s,2016-11-24 13:37:57\r",
      "\r\n",
      "Ping:,22.494,ms,Download:,92.05,Mbit/s,Upload:,14.08,Mbit/s,2016-11-24 13:38:27\r",
      "\r\n"
     ]
    }
   ],
   "source": [
    "\n",
    "\n",
    "# Code cell 21\n",
    "!head -n 5 rpi_data_long.csv\n",
    "\n"
   ]
  },
  {
   "cell_type": "markdown",
   "id": "ea4e134f",
   "metadata": {},
   "source": [
    "c) Utilice el parámetro names de la función read_csv para especificar el nombre de las columnas del marco de datos.\n"
   ]
  },
  {
   "cell_type": "code",
   "execution_count": 59,
   "id": "6df97318",
   "metadata": {},
   "outputs": [],
   "source": [
    "# Code cell 22\n",
    "column_names = [ 'Type A', 'Measure A', 'Units A',\n",
    "                 'Type B', 'Measure B', 'Units B',\n",
    "                 'Type C', 'Measure C', 'Units C', \n",
    "                 'Datetime']"
   ]
  },
  {
   "cell_type": "markdown",
   "id": "6e79f883",
   "metadata": {},
   "source": [
    "d) Utilice la función read_csv para leer de data_file y asigne column_names como los nombres de columna en el marco de datos.\n"
   ]
  },
  {
   "cell_type": "code",
   "execution_count": 60,
   "id": "4415532b",
   "metadata": {},
   "outputs": [],
   "source": [
    "# Code cell 23\n",
    "with open(data_file, 'r') as f:\n",
    "    df_redundant = pd.read_csv(f, names = column_names)"
   ]
  },
  {
   "cell_type": "markdown",
   "id": "a3277cc3",
   "metadata": {},
   "source": [
    "\n",
    "\n",
    "e) El comando head() muestra las primeras filas del marco de datos.\n"
   ]
  },
  {
   "cell_type": "code",
   "execution_count": 61,
   "id": "d71767b6",
   "metadata": {},
   "outputs": [
    {
     "data": {
      "text/html": [
       "<div>\n",
       "<style scoped>\n",
       "    .dataframe tbody tr th:only-of-type {\n",
       "        vertical-align: middle;\n",
       "    }\n",
       "\n",
       "    .dataframe tbody tr th {\n",
       "        vertical-align: top;\n",
       "    }\n",
       "\n",
       "    .dataframe thead th {\n",
       "        text-align: right;\n",
       "    }\n",
       "</style>\n",
       "<table border=\"1\" class=\"dataframe\">\n",
       "  <thead>\n",
       "    <tr style=\"text-align: right;\">\n",
       "      <th></th>\n",
       "      <th>Type A</th>\n",
       "      <th>Measure A</th>\n",
       "      <th>Units A</th>\n",
       "      <th>Type B</th>\n",
       "      <th>Measure B</th>\n",
       "      <th>Units B</th>\n",
       "      <th>Type C</th>\n",
       "      <th>Measure C</th>\n",
       "      <th>Units C</th>\n",
       "      <th>Datetime</th>\n",
       "    </tr>\n",
       "  </thead>\n",
       "  <tbody>\n",
       "    <tr>\n",
       "      <th>0</th>\n",
       "      <td>Ping:</td>\n",
       "      <td>26.992</td>\n",
       "      <td>ms</td>\n",
       "      <td>Download:</td>\n",
       "      <td>91.80</td>\n",
       "      <td>Mbit/s</td>\n",
       "      <td>Upload:</td>\n",
       "      <td>14.31</td>\n",
       "      <td>Mbit/s</td>\n",
       "      <td>2016-11-24 13:36:25</td>\n",
       "    </tr>\n",
       "    <tr>\n",
       "      <th>1</th>\n",
       "      <td>Ping:</td>\n",
       "      <td>24.532</td>\n",
       "      <td>ms</td>\n",
       "      <td>Download:</td>\n",
       "      <td>88.19</td>\n",
       "      <td>Mbit/s</td>\n",
       "      <td>Upload:</td>\n",
       "      <td>14.12</td>\n",
       "      <td>Mbit/s</td>\n",
       "      <td>2016-11-24 13:36:55</td>\n",
       "    </tr>\n",
       "    <tr>\n",
       "      <th>2</th>\n",
       "      <td>Ping:</td>\n",
       "      <td>20.225</td>\n",
       "      <td>ms</td>\n",
       "      <td>Download:</td>\n",
       "      <td>59.86</td>\n",
       "      <td>Mbit/s</td>\n",
       "      <td>Upload:</td>\n",
       "      <td>14.11</td>\n",
       "      <td>Mbit/s</td>\n",
       "      <td>2016-11-24 13:37:25</td>\n",
       "    </tr>\n",
       "    <tr>\n",
       "      <th>3</th>\n",
       "      <td>Ping:</td>\n",
       "      <td>19.332</td>\n",
       "      <td>ms</td>\n",
       "      <td>Download:</td>\n",
       "      <td>91.81</td>\n",
       "      <td>Mbit/s</td>\n",
       "      <td>Upload:</td>\n",
       "      <td>14.22</td>\n",
       "      <td>Mbit/s</td>\n",
       "      <td>2016-11-24 13:37:57</td>\n",
       "    </tr>\n",
       "    <tr>\n",
       "      <th>4</th>\n",
       "      <td>Ping:</td>\n",
       "      <td>22.494</td>\n",
       "      <td>ms</td>\n",
       "      <td>Download:</td>\n",
       "      <td>92.05</td>\n",
       "      <td>Mbit/s</td>\n",
       "      <td>Upload:</td>\n",
       "      <td>14.08</td>\n",
       "      <td>Mbit/s</td>\n",
       "      <td>2016-11-24 13:38:27</td>\n",
       "    </tr>\n",
       "  </tbody>\n",
       "</table>\n",
       "</div>"
      ],
      "text/plain": [
       "  Type A Measure A Units A     Type B Measure B Units B   Type C  Measure C  \\\n",
       "0  Ping:    26.992      ms  Download:     91.80  Mbit/s  Upload:      14.31   \n",
       "1  Ping:    24.532      ms  Download:     88.19  Mbit/s  Upload:      14.12   \n",
       "2  Ping:    20.225      ms  Download:     59.86  Mbit/s  Upload:      14.11   \n",
       "3  Ping:    19.332      ms  Download:     91.81  Mbit/s  Upload:      14.22   \n",
       "4  Ping:    22.494      ms  Download:     92.05  Mbit/s  Upload:      14.08   \n",
       "\n",
       "  Units C             Datetime  \n",
       "0  Mbit/s  2016-11-24 13:36:25  \n",
       "1  Mbit/s  2016-11-24 13:36:55  \n",
       "2  Mbit/s  2016-11-24 13:37:25  \n",
       "3  Mbit/s  2016-11-24 13:37:57  \n",
       "4  Mbit/s  2016-11-24 13:38:27  "
      ]
     },
     "execution_count": 61,
     "metadata": {},
     "output_type": "execute_result"
    }
   ],
   "source": [
    "\n",
    "\n",
    "# Code cell 24\n",
    "# You can specify the number of rows you want to print to screen: \n",
    "# you do so passing the number as an argument to the function\n",
    "# (e.g., head(10))\n",
    "df_redundant.head()\n",
    "\n"
   ]
  },
  {
   "cell_type": "code",
   "execution_count": 62,
   "id": "81d3bee3",
   "metadata": {},
   "outputs": [
    {
     "data": {
      "text/html": [
       "<div>\n",
       "<style scoped>\n",
       "    .dataframe tbody tr th:only-of-type {\n",
       "        vertical-align: middle;\n",
       "    }\n",
       "\n",
       "    .dataframe tbody tr th {\n",
       "        vertical-align: top;\n",
       "    }\n",
       "\n",
       "    .dataframe thead th {\n",
       "        text-align: right;\n",
       "    }\n",
       "</style>\n",
       "<table border=\"1\" class=\"dataframe\">\n",
       "  <thead>\n",
       "    <tr style=\"text-align: right;\">\n",
       "      <th></th>\n",
       "      <th>Type A</th>\n",
       "      <th>Measure A</th>\n",
       "      <th>Units A</th>\n",
       "      <th>Type B</th>\n",
       "      <th>Measure B</th>\n",
       "      <th>Units B</th>\n",
       "      <th>Type C</th>\n",
       "      <th>Measure C</th>\n",
       "      <th>Units C</th>\n",
       "      <th>Datetime</th>\n",
       "    </tr>\n",
       "  </thead>\n",
       "  <tbody>\n",
       "    <tr>\n",
       "      <th>0</th>\n",
       "      <td>Ping:</td>\n",
       "      <td>26.992</td>\n",
       "      <td>ms</td>\n",
       "      <td>Download:</td>\n",
       "      <td>91.80</td>\n",
       "      <td>Mbit/s</td>\n",
       "      <td>Upload:</td>\n",
       "      <td>14.31</td>\n",
       "      <td>Mbit/s</td>\n",
       "      <td>2016-11-24 13:36:25</td>\n",
       "    </tr>\n",
       "    <tr>\n",
       "      <th>1</th>\n",
       "      <td>Ping:</td>\n",
       "      <td>24.532</td>\n",
       "      <td>ms</td>\n",
       "      <td>Download:</td>\n",
       "      <td>88.19</td>\n",
       "      <td>Mbit/s</td>\n",
       "      <td>Upload:</td>\n",
       "      <td>14.12</td>\n",
       "      <td>Mbit/s</td>\n",
       "      <td>2016-11-24 13:36:55</td>\n",
       "    </tr>\n",
       "  </tbody>\n",
       "</table>\n",
       "</div>"
      ],
      "text/plain": [
       "  Type A Measure A Units A     Type B Measure B Units B   Type C  Measure C  \\\n",
       "0  Ping:    26.992      ms  Download:     91.80  Mbit/s  Upload:      14.31   \n",
       "1  Ping:    24.532      ms  Download:     88.19  Mbit/s  Upload:      14.12   \n",
       "\n",
       "  Units C             Datetime  \n",
       "0  Mbit/s  2016-11-24 13:36:25  \n",
       "1  Mbit/s  2016-11-24 13:36:55  "
      ]
     },
     "execution_count": 62,
     "metadata": {},
     "output_type": "execute_result"
    }
   ],
   "source": [
    "\n",
    "\n",
    "# Code cell 24\n",
    "# You can specify the number of rows you want to print to screen: \n",
    "# you do so passing the number as an argument to the function\n",
    "# (e.g., head(10))\n",
    "df_redundant.head(2)\n",
    "\n"
   ]
  },
  {
   "cell_type": "markdown",
   "id": "03dc5004",
   "metadata": {},
   "source": [
    "¿Cuál es el código para leer las primeras 20 líneas del archivo csv?\n"
   ]
  },
  {
   "cell_type": "code",
   "execution_count": 63,
   "id": "8fe9fd18",
   "metadata": {},
   "outputs": [
    {
     "name": "stdout",
     "output_type": "stream",
     "text": [
      "Ping:,26.992,ms,Download:,91.80,Mbit/s,Upload:,14.31,Mbit/s,2016-11-24 13:36:25\r",
      "\r\n",
      "Ping:,24.532,ms,Download:,88.19,Mbit/s,Upload:,14.12,Mbit/s,2016-11-24 13:36:55\r",
      "\r\n",
      "Ping:,20.225,ms,Download:,59.86,Mbit/s,Upload:,14.11,Mbit/s,2016-11-24 13:37:25\r",
      "\r\n",
      "Ping:,19.332,ms,Download:,91.81,Mbit/s,Upload:,14.22,Mbit/s,2016-11-24 13:37:57\r",
      "\r\n",
      "Ping:,22.494,ms,Download:,92.05,Mbit/s,Upload:,14.08,Mbit/s,2016-11-24 13:38:27\r",
      "\r\n",
      "Ping:,17.586,ms,Download:,91.88,Mbit/s,Upload:,14.18,Mbit/s,2016-11-24 13:39:01\r",
      "\r\n",
      "Ping:,21.835,ms,Download:,92.18,Mbit/s,Upload:,14.07,Mbit/s,2016-11-24 13:39:30\r",
      "\r\n",
      "Ping:,20.464,ms,Download:,92.05,Mbit/s,Upload:,14.13,Mbit/s,2016-11-24 13:40:00\r",
      "\r\n",
      "Ping:,19.293,ms,Download:,90.79,Mbit/s,Upload:,14.14,Mbit/s,2016-11-24 13:40:30\r",
      "\r\n",
      "Ping:,20.354,ms,Download:,92.64,Mbit/s,Upload:,14.07,Mbit/s,2016-11-24 13:41:00\r",
      "\r\n",
      "Ping:,19.01,ms,Download:,91.86,Mbit/s,Upload:,14.38,Mbit/s,2016-11-24 13:41:30\r",
      "\r\n",
      "Ping:,18.092,ms,Download:,92.24,Mbit/s,Upload:,14.23,Mbit/s,2016-11-24 13:42:00\r",
      "\r\n",
      "Ping:,18.137,ms,Download:,91.64,Mbit/s,Upload:,14.32,Mbit/s,2016-11-24 13:42:30\r",
      "\r\n",
      "Ping:,18.344,ms,Download:,92.85,Mbit/s,Upload:,14.20,Mbit/s,2016-11-24 13:43:00\r",
      "\r\n",
      "Ping:,23.328,ms,Download:,92.21,Mbit/s,Upload:,14.20,Mbit/s,2016-11-24 13:43:29\r",
      "\r\n",
      "Ping:,17.908,ms,Download:,92.24,Mbit/s,Upload:,11.36,Mbit/s,2016-11-24 13:43:59\r",
      "\r\n",
      "Ping:,19.291,ms,Download:,92.41,Mbit/s,Upload:,14.03,Mbit/s,2016-11-24 13:44:31\r",
      "\r\n",
      "Ping:,20.117,ms,Download:,90.39,Mbit/s,Upload:,14.17,Mbit/s,2016-11-24 13:45:01\r",
      "\r\n",
      "Ping:,19.579,ms,Download:,92.55,Mbit/s,Upload:,14.06,Mbit/s,2016-11-24 13:45:32\r",
      "\r\n",
      "Ping:,16.364,ms,Download:,78.51,Mbit/s,Upload:,13.71,Mbit/s,2016-11-24 13:46:02\r",
      "\r\n"
     ]
    }
   ],
   "source": [
    "# Code cell 21\n",
    "!head -n 20 rpi_data_long.csv"
   ]
  },
  {
   "cell_type": "code",
   "execution_count": 64,
   "id": "3170d215",
   "metadata": {},
   "outputs": [
    {
     "data": {
      "text/html": [
       "<div>\n",
       "<style scoped>\n",
       "    .dataframe tbody tr th:only-of-type {\n",
       "        vertical-align: middle;\n",
       "    }\n",
       "\n",
       "    .dataframe tbody tr th {\n",
       "        vertical-align: top;\n",
       "    }\n",
       "\n",
       "    .dataframe thead th {\n",
       "        text-align: right;\n",
       "    }\n",
       "</style>\n",
       "<table border=\"1\" class=\"dataframe\">\n",
       "  <thead>\n",
       "    <tr style=\"text-align: right;\">\n",
       "      <th></th>\n",
       "      <th>Type A</th>\n",
       "      <th>Measure A</th>\n",
       "      <th>Units A</th>\n",
       "      <th>Type B</th>\n",
       "      <th>Measure B</th>\n",
       "      <th>Units B</th>\n",
       "      <th>Type C</th>\n",
       "      <th>Measure C</th>\n",
       "      <th>Units C</th>\n",
       "      <th>Datetime</th>\n",
       "    </tr>\n",
       "  </thead>\n",
       "  <tbody>\n",
       "    <tr>\n",
       "      <th>0</th>\n",
       "      <td>Ping:</td>\n",
       "      <td>26.992</td>\n",
       "      <td>ms</td>\n",
       "      <td>Download:</td>\n",
       "      <td>91.80</td>\n",
       "      <td>Mbit/s</td>\n",
       "      <td>Upload:</td>\n",
       "      <td>14.31</td>\n",
       "      <td>Mbit/s</td>\n",
       "      <td>2016-11-24 13:36:25</td>\n",
       "    </tr>\n",
       "    <tr>\n",
       "      <th>1</th>\n",
       "      <td>Ping:</td>\n",
       "      <td>24.532</td>\n",
       "      <td>ms</td>\n",
       "      <td>Download:</td>\n",
       "      <td>88.19</td>\n",
       "      <td>Mbit/s</td>\n",
       "      <td>Upload:</td>\n",
       "      <td>14.12</td>\n",
       "      <td>Mbit/s</td>\n",
       "      <td>2016-11-24 13:36:55</td>\n",
       "    </tr>\n",
       "    <tr>\n",
       "      <th>2</th>\n",
       "      <td>Ping:</td>\n",
       "      <td>20.225</td>\n",
       "      <td>ms</td>\n",
       "      <td>Download:</td>\n",
       "      <td>59.86</td>\n",
       "      <td>Mbit/s</td>\n",
       "      <td>Upload:</td>\n",
       "      <td>14.11</td>\n",
       "      <td>Mbit/s</td>\n",
       "      <td>2016-11-24 13:37:25</td>\n",
       "    </tr>\n",
       "    <tr>\n",
       "      <th>3</th>\n",
       "      <td>Ping:</td>\n",
       "      <td>19.332</td>\n",
       "      <td>ms</td>\n",
       "      <td>Download:</td>\n",
       "      <td>91.81</td>\n",
       "      <td>Mbit/s</td>\n",
       "      <td>Upload:</td>\n",
       "      <td>14.22</td>\n",
       "      <td>Mbit/s</td>\n",
       "      <td>2016-11-24 13:37:57</td>\n",
       "    </tr>\n",
       "    <tr>\n",
       "      <th>4</th>\n",
       "      <td>Ping:</td>\n",
       "      <td>22.494</td>\n",
       "      <td>ms</td>\n",
       "      <td>Download:</td>\n",
       "      <td>92.05</td>\n",
       "      <td>Mbit/s</td>\n",
       "      <td>Upload:</td>\n",
       "      <td>14.08</td>\n",
       "      <td>Mbit/s</td>\n",
       "      <td>2016-11-24 13:38:27</td>\n",
       "    </tr>\n",
       "    <tr>\n",
       "      <th>5</th>\n",
       "      <td>Ping:</td>\n",
       "      <td>17.586</td>\n",
       "      <td>ms</td>\n",
       "      <td>Download:</td>\n",
       "      <td>91.88</td>\n",
       "      <td>Mbit/s</td>\n",
       "      <td>Upload:</td>\n",
       "      <td>14.18</td>\n",
       "      <td>Mbit/s</td>\n",
       "      <td>2016-11-24 13:39:01</td>\n",
       "    </tr>\n",
       "    <tr>\n",
       "      <th>6</th>\n",
       "      <td>Ping:</td>\n",
       "      <td>21.835</td>\n",
       "      <td>ms</td>\n",
       "      <td>Download:</td>\n",
       "      <td>92.18</td>\n",
       "      <td>Mbit/s</td>\n",
       "      <td>Upload:</td>\n",
       "      <td>14.07</td>\n",
       "      <td>Mbit/s</td>\n",
       "      <td>2016-11-24 13:39:30</td>\n",
       "    </tr>\n",
       "    <tr>\n",
       "      <th>7</th>\n",
       "      <td>Ping:</td>\n",
       "      <td>20.464</td>\n",
       "      <td>ms</td>\n",
       "      <td>Download:</td>\n",
       "      <td>92.05</td>\n",
       "      <td>Mbit/s</td>\n",
       "      <td>Upload:</td>\n",
       "      <td>14.13</td>\n",
       "      <td>Mbit/s</td>\n",
       "      <td>2016-11-24 13:40:00</td>\n",
       "    </tr>\n",
       "    <tr>\n",
       "      <th>8</th>\n",
       "      <td>Ping:</td>\n",
       "      <td>19.293</td>\n",
       "      <td>ms</td>\n",
       "      <td>Download:</td>\n",
       "      <td>90.79</td>\n",
       "      <td>Mbit/s</td>\n",
       "      <td>Upload:</td>\n",
       "      <td>14.14</td>\n",
       "      <td>Mbit/s</td>\n",
       "      <td>2016-11-24 13:40:30</td>\n",
       "    </tr>\n",
       "    <tr>\n",
       "      <th>9</th>\n",
       "      <td>Ping:</td>\n",
       "      <td>20.354</td>\n",
       "      <td>ms</td>\n",
       "      <td>Download:</td>\n",
       "      <td>92.64</td>\n",
       "      <td>Mbit/s</td>\n",
       "      <td>Upload:</td>\n",
       "      <td>14.07</td>\n",
       "      <td>Mbit/s</td>\n",
       "      <td>2016-11-24 13:41:00</td>\n",
       "    </tr>\n",
       "    <tr>\n",
       "      <th>10</th>\n",
       "      <td>Ping:</td>\n",
       "      <td>19.01</td>\n",
       "      <td>ms</td>\n",
       "      <td>Download:</td>\n",
       "      <td>91.86</td>\n",
       "      <td>Mbit/s</td>\n",
       "      <td>Upload:</td>\n",
       "      <td>14.38</td>\n",
       "      <td>Mbit/s</td>\n",
       "      <td>2016-11-24 13:41:30</td>\n",
       "    </tr>\n",
       "    <tr>\n",
       "      <th>11</th>\n",
       "      <td>Ping:</td>\n",
       "      <td>18.092</td>\n",
       "      <td>ms</td>\n",
       "      <td>Download:</td>\n",
       "      <td>92.24</td>\n",
       "      <td>Mbit/s</td>\n",
       "      <td>Upload:</td>\n",
       "      <td>14.23</td>\n",
       "      <td>Mbit/s</td>\n",
       "      <td>2016-11-24 13:42:00</td>\n",
       "    </tr>\n",
       "    <tr>\n",
       "      <th>12</th>\n",
       "      <td>Ping:</td>\n",
       "      <td>18.137</td>\n",
       "      <td>ms</td>\n",
       "      <td>Download:</td>\n",
       "      <td>91.64</td>\n",
       "      <td>Mbit/s</td>\n",
       "      <td>Upload:</td>\n",
       "      <td>14.32</td>\n",
       "      <td>Mbit/s</td>\n",
       "      <td>2016-11-24 13:42:30</td>\n",
       "    </tr>\n",
       "    <tr>\n",
       "      <th>13</th>\n",
       "      <td>Ping:</td>\n",
       "      <td>18.344</td>\n",
       "      <td>ms</td>\n",
       "      <td>Download:</td>\n",
       "      <td>92.85</td>\n",
       "      <td>Mbit/s</td>\n",
       "      <td>Upload:</td>\n",
       "      <td>14.20</td>\n",
       "      <td>Mbit/s</td>\n",
       "      <td>2016-11-24 13:43:00</td>\n",
       "    </tr>\n",
       "    <tr>\n",
       "      <th>14</th>\n",
       "      <td>Ping:</td>\n",
       "      <td>23.328</td>\n",
       "      <td>ms</td>\n",
       "      <td>Download:</td>\n",
       "      <td>92.21</td>\n",
       "      <td>Mbit/s</td>\n",
       "      <td>Upload:</td>\n",
       "      <td>14.20</td>\n",
       "      <td>Mbit/s</td>\n",
       "      <td>2016-11-24 13:43:29</td>\n",
       "    </tr>\n",
       "    <tr>\n",
       "      <th>15</th>\n",
       "      <td>Ping:</td>\n",
       "      <td>17.908</td>\n",
       "      <td>ms</td>\n",
       "      <td>Download:</td>\n",
       "      <td>92.24</td>\n",
       "      <td>Mbit/s</td>\n",
       "      <td>Upload:</td>\n",
       "      <td>11.36</td>\n",
       "      <td>Mbit/s</td>\n",
       "      <td>2016-11-24 13:43:59</td>\n",
       "    </tr>\n",
       "    <tr>\n",
       "      <th>16</th>\n",
       "      <td>Ping:</td>\n",
       "      <td>19.291</td>\n",
       "      <td>ms</td>\n",
       "      <td>Download:</td>\n",
       "      <td>92.41</td>\n",
       "      <td>Mbit/s</td>\n",
       "      <td>Upload:</td>\n",
       "      <td>14.03</td>\n",
       "      <td>Mbit/s</td>\n",
       "      <td>2016-11-24 13:44:31</td>\n",
       "    </tr>\n",
       "    <tr>\n",
       "      <th>17</th>\n",
       "      <td>Ping:</td>\n",
       "      <td>20.117</td>\n",
       "      <td>ms</td>\n",
       "      <td>Download:</td>\n",
       "      <td>90.39</td>\n",
       "      <td>Mbit/s</td>\n",
       "      <td>Upload:</td>\n",
       "      <td>14.17</td>\n",
       "      <td>Mbit/s</td>\n",
       "      <td>2016-11-24 13:45:01</td>\n",
       "    </tr>\n",
       "    <tr>\n",
       "      <th>18</th>\n",
       "      <td>Ping:</td>\n",
       "      <td>19.579</td>\n",
       "      <td>ms</td>\n",
       "      <td>Download:</td>\n",
       "      <td>92.55</td>\n",
       "      <td>Mbit/s</td>\n",
       "      <td>Upload:</td>\n",
       "      <td>14.06</td>\n",
       "      <td>Mbit/s</td>\n",
       "      <td>2016-11-24 13:45:32</td>\n",
       "    </tr>\n",
       "    <tr>\n",
       "      <th>19</th>\n",
       "      <td>Ping:</td>\n",
       "      <td>16.364</td>\n",
       "      <td>ms</td>\n",
       "      <td>Download:</td>\n",
       "      <td>78.51</td>\n",
       "      <td>Mbit/s</td>\n",
       "      <td>Upload:</td>\n",
       "      <td>13.71</td>\n",
       "      <td>Mbit/s</td>\n",
       "      <td>2016-11-24 13:46:02</td>\n",
       "    </tr>\n",
       "  </tbody>\n",
       "</table>\n",
       "</div>"
      ],
      "text/plain": [
       "   Type A Measure A Units A     Type B Measure B Units B   Type C  Measure C  \\\n",
       "0   Ping:    26.992      ms  Download:     91.80  Mbit/s  Upload:      14.31   \n",
       "1   Ping:    24.532      ms  Download:     88.19  Mbit/s  Upload:      14.12   \n",
       "2   Ping:    20.225      ms  Download:     59.86  Mbit/s  Upload:      14.11   \n",
       "3   Ping:    19.332      ms  Download:     91.81  Mbit/s  Upload:      14.22   \n",
       "4   Ping:    22.494      ms  Download:     92.05  Mbit/s  Upload:      14.08   \n",
       "5   Ping:    17.586      ms  Download:     91.88  Mbit/s  Upload:      14.18   \n",
       "6   Ping:    21.835      ms  Download:     92.18  Mbit/s  Upload:      14.07   \n",
       "7   Ping:    20.464      ms  Download:     92.05  Mbit/s  Upload:      14.13   \n",
       "8   Ping:    19.293      ms  Download:     90.79  Mbit/s  Upload:      14.14   \n",
       "9   Ping:    20.354      ms  Download:     92.64  Mbit/s  Upload:      14.07   \n",
       "10  Ping:     19.01      ms  Download:     91.86  Mbit/s  Upload:      14.38   \n",
       "11  Ping:    18.092      ms  Download:     92.24  Mbit/s  Upload:      14.23   \n",
       "12  Ping:    18.137      ms  Download:     91.64  Mbit/s  Upload:      14.32   \n",
       "13  Ping:    18.344      ms  Download:     92.85  Mbit/s  Upload:      14.20   \n",
       "14  Ping:    23.328      ms  Download:     92.21  Mbit/s  Upload:      14.20   \n",
       "15  Ping:    17.908      ms  Download:     92.24  Mbit/s  Upload:      11.36   \n",
       "16  Ping:    19.291      ms  Download:     92.41  Mbit/s  Upload:      14.03   \n",
       "17  Ping:    20.117      ms  Download:     90.39  Mbit/s  Upload:      14.17   \n",
       "18  Ping:    19.579      ms  Download:     92.55  Mbit/s  Upload:      14.06   \n",
       "19  Ping:    16.364      ms  Download:     78.51  Mbit/s  Upload:      13.71   \n",
       "\n",
       "   Units C             Datetime  \n",
       "0   Mbit/s  2016-11-24 13:36:25  \n",
       "1   Mbit/s  2016-11-24 13:36:55  \n",
       "2   Mbit/s  2016-11-24 13:37:25  \n",
       "3   Mbit/s  2016-11-24 13:37:57  \n",
       "4   Mbit/s  2016-11-24 13:38:27  \n",
       "5   Mbit/s  2016-11-24 13:39:01  \n",
       "6   Mbit/s  2016-11-24 13:39:30  \n",
       "7   Mbit/s  2016-11-24 13:40:00  \n",
       "8   Mbit/s  2016-11-24 13:40:30  \n",
       "9   Mbit/s  2016-11-24 13:41:00  \n",
       "10  Mbit/s  2016-11-24 13:41:30  \n",
       "11  Mbit/s  2016-11-24 13:42:00  \n",
       "12  Mbit/s  2016-11-24 13:42:30  \n",
       "13  Mbit/s  2016-11-24 13:43:00  \n",
       "14  Mbit/s  2016-11-24 13:43:29  \n",
       "15  Mbit/s  2016-11-24 13:43:59  \n",
       "16  Mbit/s  2016-11-24 13:44:31  \n",
       "17  Mbit/s  2016-11-24 13:45:01  \n",
       "18  Mbit/s  2016-11-24 13:45:32  \n",
       "19  Mbit/s  2016-11-24 13:46:02  "
      ]
     },
     "execution_count": 64,
     "metadata": {},
     "output_type": "execute_result"
    }
   ],
   "source": [
    "df_redundant.head(20)"
   ]
  },
  {
   "cell_type": "markdown",
   "id": "3a79c714",
   "metadata": {},
   "source": [
    "\n",
    "Paso 3: Cree una representación concisa.\n",
    "\n",
    "En este paso, creará una representación más compacta mediante una copia del marco de datos df_redundant.\n",
    "\n",
    "a) Copie df_redundant en otro marco de datos llamado df_compact mediante copy()"
   ]
  },
  {
   "cell_type": "code",
   "execution_count": 65,
   "id": "667841b0",
   "metadata": {},
   "outputs": [],
   "source": [
    "# Code cell 25\n",
    "df_compact = df_redundant.copy()\n"
   ]
  },
  {
   "cell_type": "markdown",
   "id": "3ae9046f",
   "metadata": {},
   "source": [
    "b) Cambie el nombre de las columnas en relación con las medidas como se muestra:\n",
    "\n",
    "Measure A -> Ping (ms)\n",
    "Measure B -> Download (Mbit/s)\n",
    "Measure C -> Upload (Mbit/s)"
   ]
  },
  {
   "cell_type": "code",
   "execution_count": 66,
   "id": "59aaf722",
   "metadata": {},
   "outputs": [
    {
     "data": {
      "text/html": [
       "<div>\n",
       "<style scoped>\n",
       "    .dataframe tbody tr th:only-of-type {\n",
       "        vertical-align: middle;\n",
       "    }\n",
       "\n",
       "    .dataframe tbody tr th {\n",
       "        vertical-align: top;\n",
       "    }\n",
       "\n",
       "    .dataframe thead th {\n",
       "        text-align: right;\n",
       "    }\n",
       "</style>\n",
       "<table border=\"1\" class=\"dataframe\">\n",
       "  <thead>\n",
       "    <tr style=\"text-align: right;\">\n",
       "      <th></th>\n",
       "      <th>Type A</th>\n",
       "      <th>Ping (ms)</th>\n",
       "      <th>Units A</th>\n",
       "      <th>Type B</th>\n",
       "      <th>Download (Mbit/s)</th>\n",
       "      <th>Units B</th>\n",
       "      <th>Type C</th>\n",
       "      <th>Upload (Mbit/s)</th>\n",
       "      <th>Units C</th>\n",
       "      <th>Datetime</th>\n",
       "    </tr>\n",
       "  </thead>\n",
       "  <tbody>\n",
       "    <tr>\n",
       "      <th>0</th>\n",
       "      <td>Ping:</td>\n",
       "      <td>26.992</td>\n",
       "      <td>ms</td>\n",
       "      <td>Download:</td>\n",
       "      <td>91.80</td>\n",
       "      <td>Mbit/s</td>\n",
       "      <td>Upload:</td>\n",
       "      <td>14.31</td>\n",
       "      <td>Mbit/s</td>\n",
       "      <td>2016-11-24 13:36:25</td>\n",
       "    </tr>\n",
       "    <tr>\n",
       "      <th>1</th>\n",
       "      <td>Ping:</td>\n",
       "      <td>24.532</td>\n",
       "      <td>ms</td>\n",
       "      <td>Download:</td>\n",
       "      <td>88.19</td>\n",
       "      <td>Mbit/s</td>\n",
       "      <td>Upload:</td>\n",
       "      <td>14.12</td>\n",
       "      <td>Mbit/s</td>\n",
       "      <td>2016-11-24 13:36:55</td>\n",
       "    </tr>\n",
       "    <tr>\n",
       "      <th>2</th>\n",
       "      <td>Ping:</td>\n",
       "      <td>20.225</td>\n",
       "      <td>ms</td>\n",
       "      <td>Download:</td>\n",
       "      <td>59.86</td>\n",
       "      <td>Mbit/s</td>\n",
       "      <td>Upload:</td>\n",
       "      <td>14.11</td>\n",
       "      <td>Mbit/s</td>\n",
       "      <td>2016-11-24 13:37:25</td>\n",
       "    </tr>\n",
       "  </tbody>\n",
       "</table>\n",
       "</div>"
      ],
      "text/plain": [
       "  Type A Ping (ms) Units A     Type B Download (Mbit/s) Units B   Type C  \\\n",
       "0  Ping:    26.992      ms  Download:             91.80  Mbit/s  Upload:   \n",
       "1  Ping:    24.532      ms  Download:             88.19  Mbit/s  Upload:   \n",
       "2  Ping:    20.225      ms  Download:             59.86  Mbit/s  Upload:   \n",
       "\n",
       "   Upload (Mbit/s) Units C             Datetime  \n",
       "0            14.31  Mbit/s  2016-11-24 13:36:25  \n",
       "1            14.12  Mbit/s  2016-11-24 13:36:55  \n",
       "2            14.11  Mbit/s  2016-11-24 13:37:25  "
      ]
     },
     "execution_count": 66,
     "metadata": {},
     "output_type": "execute_result"
    }
   ],
   "source": [
    "# Code cell 26\n",
    "df_compact.rename(columns={'Measure A':'Ping (ms)', \n",
    "                           'Measure B': 'Download (Mbit/s)',\n",
    "                           'Measure C': 'Upload (Mbit/s)'}, inplace=True)\n",
    "df_compact.head(3)\n"
   ]
  },
  {
   "cell_type": "markdown",
   "id": "2d5cf6e9",
   "metadata": {},
   "source": [
    "c) Como las columnas de los tipos y las unidades ya no son necesarias, estas columnas pueden descartarse."
   ]
  },
  {
   "cell_type": "code",
   "execution_count": 67,
   "id": "22e3495a",
   "metadata": {},
   "outputs": [
    {
     "data": {
      "text/html": [
       "<div>\n",
       "<style scoped>\n",
       "    .dataframe tbody tr th:only-of-type {\n",
       "        vertical-align: middle;\n",
       "    }\n",
       "\n",
       "    .dataframe tbody tr th {\n",
       "        vertical-align: top;\n",
       "    }\n",
       "\n",
       "    .dataframe thead th {\n",
       "        text-align: right;\n",
       "    }\n",
       "</style>\n",
       "<table border=\"1\" class=\"dataframe\">\n",
       "  <thead>\n",
       "    <tr style=\"text-align: right;\">\n",
       "      <th></th>\n",
       "      <th>Ping (ms)</th>\n",
       "      <th>Download (Mbit/s)</th>\n",
       "      <th>Upload (Mbit/s)</th>\n",
       "      <th>Datetime</th>\n",
       "    </tr>\n",
       "  </thead>\n",
       "  <tbody>\n",
       "    <tr>\n",
       "      <th>0</th>\n",
       "      <td>26.992</td>\n",
       "      <td>91.80</td>\n",
       "      <td>14.31</td>\n",
       "      <td>2016-11-24 13:36:25</td>\n",
       "    </tr>\n",
       "    <tr>\n",
       "      <th>1</th>\n",
       "      <td>24.532</td>\n",
       "      <td>88.19</td>\n",
       "      <td>14.12</td>\n",
       "      <td>2016-11-24 13:36:55</td>\n",
       "    </tr>\n",
       "    <tr>\n",
       "      <th>2</th>\n",
       "      <td>20.225</td>\n",
       "      <td>59.86</td>\n",
       "      <td>14.11</td>\n",
       "      <td>2016-11-24 13:37:25</td>\n",
       "    </tr>\n",
       "    <tr>\n",
       "      <th>3</th>\n",
       "      <td>19.332</td>\n",
       "      <td>91.81</td>\n",
       "      <td>14.22</td>\n",
       "      <td>2016-11-24 13:37:57</td>\n",
       "    </tr>\n",
       "    <tr>\n",
       "      <th>4</th>\n",
       "      <td>22.494</td>\n",
       "      <td>92.05</td>\n",
       "      <td>14.08</td>\n",
       "      <td>2016-11-24 13:38:27</td>\n",
       "    </tr>\n",
       "  </tbody>\n",
       "</table>\n",
       "</div>"
      ],
      "text/plain": [
       "  Ping (ms) Download (Mbit/s)  Upload (Mbit/s)             Datetime\n",
       "0    26.992             91.80            14.31  2016-11-24 13:36:25\n",
       "1    24.532             88.19            14.12  2016-11-24 13:36:55\n",
       "2    20.225             59.86            14.11  2016-11-24 13:37:25\n",
       "3    19.332             91.81            14.22  2016-11-24 13:37:57\n",
       "4    22.494             92.05            14.08  2016-11-24 13:38:27"
      ]
     },
     "execution_count": 67,
     "metadata": {},
     "output_type": "execute_result"
    }
   ],
   "source": [
    "# Code cell 27\n",
    "df_compact.drop(['Type A', 'Type B', 'Type C',\n",
    "         'Units A', 'Units B', 'Units C'], axis=1, inplace=True)\n",
    "df_compact.head()\n"
   ]
  },
  {
   "cell_type": "markdown",
   "id": "0cb17b16",
   "metadata": {},
   "source": [
    "\n",
    "En la tabla anterior, el campo Datetime es una cadena. Los pandas y Python ofrecen varias operaciones para trabajar con la fecha y la hora que pueden ser muy útiles.\n",
    "\n",
    "En el siguiente paso, la cadena de la columna Datetime se separará en dos columnas nuevas.\n",
    "Paso 4: Separe los datos en dos columnas.\n",
    "\n",
    "En este paso, utilizará los pandas para generar las columnas Date y Time a partir de la columna Datetime y luego descartará la columna Datetime.\n",
    "\n",
    "Se utiliza la función lambda para crear dos funciones anónimas que recuperen sólo la fecha y la hora de un objeto datetime, respectivamente. Luego utilice la función de los pandas apply para aplicar esta función a una columna completa (en la práctica, apply implícitamente define un bucle for y pasa las filas una por una en nuestra función lambda). Guarde el resultado de las funciones apply en dos nuevas columnas del marco de datos.\n",
    "\n",
    "a) Aplique la función lambda para iterar a través del marco de datos y dividir la fecha de la columna Datetime.\n"
   ]
  },
  {
   "cell_type": "code",
   "execution_count": 68,
   "id": "0e261ff2",
   "metadata": {},
   "outputs": [],
   "source": [
    "# Code cell 28\n",
    "df_compact['Date'] = df_compact['Datetime'].apply(lambda dt_str: pd.to_datetime(dt_str).date())"
   ]
  },
  {
   "cell_type": "markdown",
   "id": "c217b12c",
   "metadata": {},
   "source": [
    "b) Repita el paso a para dividir la hora de la columna Datetime."
   ]
  },
  {
   "cell_type": "code",
   "execution_count": 70,
   "id": "945e0586",
   "metadata": {},
   "outputs": [],
   "source": [
    "temp = df_compact['Datetime'].apply(lambda dt_str: pd.to_datetime(dt_str))\n",
    "df_compact['Time'] = temp.dt.time"
   ]
  },
  {
   "cell_type": "markdown",
   "id": "2a5fc15f",
   "metadata": {},
   "source": [
    "c) Toda la información de la columna Datetime se ha copiado ahora a las columnas Date y Time. La columna Datetime carece de propósito. La columna Datetime se puede descartar del marco de datos.\n",
    "\n",
    "Ingrese el código para descartar la columna Datetime en la celda a continuación."
   ]
  },
  {
   "cell_type": "code",
   "execution_count": 71,
   "id": "64b92bf4",
   "metadata": {},
   "outputs": [
    {
     "data": {
      "text/plain": [
       "Index(['Ping (ms)', 'Download (Mbit/s)', 'Upload (Mbit/s)', 'Datetime', 'Date',\n",
       "       'Time'],\n",
       "      dtype='object')"
      ]
     },
     "execution_count": 71,
     "metadata": {},
     "output_type": "execute_result"
    }
   ],
   "source": [
    "# Code cell 30\n",
    "df_compact.columns"
   ]
  },
  {
   "cell_type": "code",
   "execution_count": 73,
   "id": "71cb9253",
   "metadata": {},
   "outputs": [
    {
     "data": {
      "text/plain": [
       "Index(['Ping (ms)', 'Download (Mbit/s)', 'Upload (Mbit/s)', 'Date', 'Time'], dtype='object')"
      ]
     },
     "execution_count": 73,
     "metadata": {},
     "output_type": "execute_result"
    }
   ],
   "source": [
    "df_compact.drop('Datetime',axis=1,inplace=True)\n",
    "df_compact.columns"
   ]
  },
  {
   "cell_type": "markdown",
   "id": "7124d88a",
   "metadata": {},
   "source": [
    "d) Utilice la función type para imprimir el tipo de variable de los valores en las columnas Date y Time."
   ]
  },
  {
   "cell_type": "code",
   "execution_count": 74,
   "id": "b10b90cb",
   "metadata": {},
   "outputs": [
    {
     "name": "stdout",
     "output_type": "stream",
     "text": [
      "2016-11-24 <class 'datetime.date'>\n",
      "13:36:25 <class 'datetime.time'>\n"
     ]
    }
   ],
   "source": [
    "# Code cell 32\n",
    "print(df_compact['Date'][0], type(df_compact['Date'][0]) )\n",
    "print(df_compact['Time'][0], type(df_compact['Time'][0]) )"
   ]
  },
  {
   "cell_type": "markdown",
   "id": "4e8fb800",
   "metadata": {},
   "source": [
    "\n",
    "Paso 5: Guarde el nuevo marco de datos.\n",
    "\n",
    "Guarde el marco de datos de pandas df_compact como un archivo csv en rpi_data_compact.csv.\n"
   ]
  },
  {
   "cell_type": "code",
   "execution_count": 75,
   "id": "c899095c",
   "metadata": {},
   "outputs": [],
   "source": [
    "# Code cell 33\n",
    "df_compact.to_csv('rpi_data_compact.csv')"
   ]
  },
  {
   "cell_type": "code",
   "execution_count": 76,
   "id": "936b55e6",
   "metadata": {},
   "outputs": [
    {
     "data": {
      "text/html": [
       "<div>\n",
       "<style scoped>\n",
       "    .dataframe tbody tr th:only-of-type {\n",
       "        vertical-align: middle;\n",
       "    }\n",
       "\n",
       "    .dataframe tbody tr th {\n",
       "        vertical-align: top;\n",
       "    }\n",
       "\n",
       "    .dataframe thead th {\n",
       "        text-align: right;\n",
       "    }\n",
       "</style>\n",
       "<table border=\"1\" class=\"dataframe\">\n",
       "  <thead>\n",
       "    <tr style=\"text-align: right;\">\n",
       "      <th></th>\n",
       "      <th>Type A</th>\n",
       "      <th>Measure A</th>\n",
       "      <th>Units A</th>\n",
       "      <th>Type B</th>\n",
       "      <th>Measure B</th>\n",
       "      <th>Units B</th>\n",
       "      <th>Type C</th>\n",
       "      <th>Measure C</th>\n",
       "      <th>Units C</th>\n",
       "      <th>Datetime</th>\n",
       "    </tr>\n",
       "  </thead>\n",
       "  <tbody>\n",
       "    <tr>\n",
       "      <th>0</th>\n",
       "      <td>Ping:</td>\n",
       "      <td>26.992</td>\n",
       "      <td>ms</td>\n",
       "      <td>Download:</td>\n",
       "      <td>91.80</td>\n",
       "      <td>Mbit/s</td>\n",
       "      <td>Upload:</td>\n",
       "      <td>14.31</td>\n",
       "      <td>Mbit/s</td>\n",
       "      <td>2016-11-24 13:36:25</td>\n",
       "    </tr>\n",
       "    <tr>\n",
       "      <th>1</th>\n",
       "      <td>Ping:</td>\n",
       "      <td>24.532</td>\n",
       "      <td>ms</td>\n",
       "      <td>Download:</td>\n",
       "      <td>88.19</td>\n",
       "      <td>Mbit/s</td>\n",
       "      <td>Upload:</td>\n",
       "      <td>14.12</td>\n",
       "      <td>Mbit/s</td>\n",
       "      <td>2016-11-24 13:36:55</td>\n",
       "    </tr>\n",
       "    <tr>\n",
       "      <th>2</th>\n",
       "      <td>Ping:</td>\n",
       "      <td>20.225</td>\n",
       "      <td>ms</td>\n",
       "      <td>Download:</td>\n",
       "      <td>59.86</td>\n",
       "      <td>Mbit/s</td>\n",
       "      <td>Upload:</td>\n",
       "      <td>14.11</td>\n",
       "      <td>Mbit/s</td>\n",
       "      <td>2016-11-24 13:37:25</td>\n",
       "    </tr>\n",
       "    <tr>\n",
       "      <th>3</th>\n",
       "      <td>Ping:</td>\n",
       "      <td>19.332</td>\n",
       "      <td>ms</td>\n",
       "      <td>Download:</td>\n",
       "      <td>91.81</td>\n",
       "      <td>Mbit/s</td>\n",
       "      <td>Upload:</td>\n",
       "      <td>14.22</td>\n",
       "      <td>Mbit/s</td>\n",
       "      <td>2016-11-24 13:37:57</td>\n",
       "    </tr>\n",
       "    <tr>\n",
       "      <th>4</th>\n",
       "      <td>Ping:</td>\n",
       "      <td>22.494</td>\n",
       "      <td>ms</td>\n",
       "      <td>Download:</td>\n",
       "      <td>92.05</td>\n",
       "      <td>Mbit/s</td>\n",
       "      <td>Upload:</td>\n",
       "      <td>14.08</td>\n",
       "      <td>Mbit/s</td>\n",
       "      <td>2016-11-24 13:38:27</td>\n",
       "    </tr>\n",
       "  </tbody>\n",
       "</table>\n",
       "</div>"
      ],
      "text/plain": [
       "  Type A Measure A Units A     Type B Measure B Units B   Type C  Measure C  \\\n",
       "0  Ping:    26.992      ms  Download:     91.80  Mbit/s  Upload:      14.31   \n",
       "1  Ping:    24.532      ms  Download:     88.19  Mbit/s  Upload:      14.12   \n",
       "2  Ping:    20.225      ms  Download:     59.86  Mbit/s  Upload:      14.11   \n",
       "3  Ping:    19.332      ms  Download:     91.81  Mbit/s  Upload:      14.22   \n",
       "4  Ping:    22.494      ms  Download:     92.05  Mbit/s  Upload:      14.08   \n",
       "\n",
       "  Units C             Datetime  \n",
       "0  Mbit/s  2016-11-24 13:36:25  \n",
       "1  Mbit/s  2016-11-24 13:36:55  \n",
       "2  Mbit/s  2016-11-24 13:37:25  \n",
       "3  Mbit/s  2016-11-24 13:37:57  \n",
       "4  Mbit/s  2016-11-24 13:38:27  "
      ]
     },
     "execution_count": 76,
     "metadata": {},
     "output_type": "execute_result"
    }
   ],
   "source": [
    "df_redundant.head(5)"
   ]
  }
 ],
 "metadata": {
  "kernelspec": {
   "display_name": "Python 3 (ipykernel)",
   "language": "python",
   "name": "python3"
  },
  "language_info": {
   "codemirror_mode": {
    "name": "ipython",
    "version": 3
   },
   "file_extension": ".py",
   "mimetype": "text/x-python",
   "name": "python",
   "nbconvert_exporter": "python",
   "pygments_lexer": "ipython3",
   "version": "3.11.5"
  }
 },
 "nbformat": 4,
 "nbformat_minor": 5
}
